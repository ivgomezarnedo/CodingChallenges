{
 "cells": [
  {
   "cell_type": "code",
   "execution_count": null,
   "metadata": {},
   "outputs": [],
   "source": [
    "#https://adventofcode.com/2020/day/9"
   ]
  },
  {
   "cell_type": "code",
   "execution_count": 4,
   "metadata": {},
   "outputs": [],
   "source": [
    "lines = open('input.txt').readlines()"
   ]
  },
  {
   "cell_type": "code",
   "execution_count": 31,
   "metadata": {},
   "outputs": [],
   "source": [
    "def calculate_list(lines):\n",
    "    sum_list=[]\n",
    "    for idx,line in enumerate(lines):\n",
    "        number_to_sum=int(line[0:-1])\n",
    "        for idx2,line2 in enumerate(lines):\n",
    "            if(idx2!=idx):\n",
    "                sum_list.append(number_to_sum+int(line2[0:-1]))\n",
    "    return sum_list\n",
    "    "
   ]
  },
  {
   "cell_type": "code",
   "execution_count": 29,
   "metadata": {},
   "outputs": [],
   "source": [
    "def xmas_number(lines):\n",
    "    for idx,line in enumerate(lines):\n",
    "        number_to_check=int(line[0:-1])\n",
    "        if(idx>24):\n",
    "            if(number_to_check not in calculate_list(lines[idx-25:idx])): #(╥_╥) NO TOMA LOS ELEMENTOS COMO SI ESTUVIÉSEMOS REVISANDO LA LISTA. LOS TOMA DESDE EL PRIMERO (0) HASTA EL NÚMERO DE ELEMENTOS QUE QUERAMOS (25)\n",
    "                return number_to_check"
   ]
  },
  {
   "cell_type": "code",
   "execution_count": 32,
   "metadata": {},
   "outputs": [
    {
     "data": {
      "text/plain": [
       "675280050"
      ]
     },
     "execution_count": 32,
     "metadata": {},
     "output_type": "execute_result"
    }
   ],
   "source": [
    "xmas_number(lines)"
   ]
  },
  {
   "cell_type": "code",
   "execution_count": 104,
   "metadata": {},
   "outputs": [
    {
     "name": "stdout",
     "output_type": "stream",
     "text": [
      "Part 2: 96081673\n"
     ]
    }
   ],
   "source": [
    "#2\n",
    "data = open(\"input.txt\").read().strip().split('\\n')\n",
    "p1=xmas_number(lines)\n",
    "seen = set()\n",
    "\n",
    "# set beginning and end values for range to sum\n",
    "for beg in range(len(data) - 1):#===range(0,999)\n",
    "    for end in range(beg + 1, len(data)):#===range(1,1000)\n",
    "        # grab range and convert ints for ease of summing\n",
    "        subset = list(map(int, data[beg:end + 1])) #Transforma los números de string a entero.\n",
    "\n",
    "        # to speed things up keeping track of seen totals and skipping invalid ranges\n",
    "        if sum(subset) in seen or max(subset) > p1 or sum(subset) > p1: #Elimina las sumas ya encontradas, los conjuntos con números mayores que p1 y las sumas mayores que p1\n",
    "            break\n",
    "        else:\n",
    "            seen.add(sum(subset)) #Añade la suma al conjunto para evitar volver a procesarla\n",
    "\n",
    "        # if range equals part 1 quit looking\n",
    "        if sum(subset) == p1:\n",
    "            p2 = subset\n",
    "            break\n",
    "\n",
    "print(f'Part 2: {min(p2) + max(p2)}')"
   ]
  }
 ],
 "metadata": {
  "kernelspec": {
   "display_name": "Python 3",
   "language": "python",
   "name": "python3"
  },
  "language_info": {
   "codemirror_mode": {
    "name": "ipython",
    "version": 3
   },
   "file_extension": ".py",
   "mimetype": "text/x-python",
   "name": "python",
   "nbconvert_exporter": "python",
   "pygments_lexer": "ipython3",
   "version": "3.7.6"
  }
 },
 "nbformat": 4,
 "nbformat_minor": 4
}

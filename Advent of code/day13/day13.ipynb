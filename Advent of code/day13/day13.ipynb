{
 "cells": [
  {
   "cell_type": "code",
   "execution_count": null,
   "metadata": {},
   "outputs": [],
   "source": [
    "#https://adventofcode.com/2020/day/13"
   ]
  },
  {
   "cell_type": "code",
   "execution_count": null,
   "metadata": {},
   "outputs": [],
   "source": [
    "\"\"\"\n",
    "The time this loop takes a particular bus is also its ID number: \n",
    "the bus with ID 5 departs from the sea port at timestamps 0, 5, 10, 15, and so on.\n",
    "The bus with ID 11 departs at 0, 11, 22, 33, and so on.\n",
    "If you are there when the bus departs, you can ride that bus to the airport!\n",
    "\"\"\""
   ]
  },
  {
   "cell_type": "code",
   "execution_count": null,
   "metadata": {},
   "outputs": [],
   "source": [
    "with open('input.txt') as f:\n",
    "    lines = f.read().splitlines()"
   ]
  },
  {
   "cell_type": "code",
   "execution_count": null,
   "metadata": {},
   "outputs": [],
   "source": [
    "timestamp=lines[0]"
   ]
  },
  {
   "cell_type": "code",
   "execution_count": null,
   "metadata": {},
   "outputs": [],
   "source": [
    "bus_ids=set(lines[1].split(\",\"))\n",
    "bus_ids.remove(\"x\")"
   ]
  },
  {
   "cell_type": "code",
   "execution_count": null,
   "metadata": {},
   "outputs": [],
   "source": [
    "bus_choosen='empty'\n",
    "departure_timestamp_bus='empty'\n",
    "delay='empty'\n",
    "for bus in bus_ids:\n",
    "    departure_timestamp=int(bus)*(int(timestamp)//int(bus)+1)\n",
    "    if(delay=='empty' or departure_timestamp-int(timestamp)<delay):\n",
    "        delay=departure_timestamp-int(timestamp)\n",
    "        departure_timestamp_bus=departure_timestamp\n",
    "        bus_choosen=bus"
   ]
  },
  {
   "cell_type": "code",
   "execution_count": null,
   "metadata": {},
   "outputs": [],
   "source": [
    "print(\"Resultado: \"+str(int(bus_choosen)*delay))"
   ]
  },
  {
   "cell_type": "code",
   "execution_count": 17,
   "metadata": {},
   "outputs": [
    {
     "name": "stdout",
     "output_type": "stream",
     "text": [
      "2215\n",
      "1058443396696792\n"
     ]
    }
   ],
   "source": [
    "from math import prod\n",
    "\n",
    "with open(\"input.txt\") as f:\n",
    "    data = f.read().splitlines()\n",
    "\n",
    "earliest_start = int(data[0])\n",
    "buses = [int(x) for x in data[1].split(\",\") if x != \"x\"]\n",
    "\n",
    "departing = [(-1 * earliest_start) % x for x in buses]\n",
    "\n",
    "earliest_bus = sorted([[x, y] for x, y in zip(buses, departing)], key=lambda b: b[1])[0]\n",
    "\n",
    "print(prod(earliest_bus))\n",
    "\n",
    "\n",
    "def chinese_remainder(n, a):\n",
    "    p = prod(n)\n",
    "    total = sum(y * pow(p // x, -1, x) * (p // x) for x, y in zip(n, a))\n",
    "    return total % p\n",
    "\n",
    "\n",
    "inputs = [(int(x), int(x) - p) for p, x in enumerate(data[1].split(\",\")) if x != \"x\"]\n",
    "\n",
    "print(chinese_remainder([x[0] for x in inputs], [x[1] for x in inputs]))"
   ]
  },
  {
   "cell_type": "code",
   "execution_count": 8,
   "metadata": {},
   "outputs": [
    {
     "data": {
      "text/plain": [
       "138"
      ]
     },
     "execution_count": 8,
     "metadata": {},
     "output_type": "execute_result"
    }
   ],
   "source": [
    "len (data[1])"
   ]
  },
  {
   "cell_type": "code",
   "execution_count": 7,
   "metadata": {},
   "outputs": [
    {
     "data": {
      "text/plain": [
       "[(19, 19),\n",
       " (41, 32),\n",
       " (823, 804),\n",
       " (23, -4),\n",
       " (17, -19),\n",
       " (29, -19),\n",
       " (443, 393),\n",
       " (37, -19),\n",
       " (13, -50)]"
      ]
     },
     "execution_count": 7,
     "metadata": {},
     "output_type": "execute_result"
    }
   ],
   "source": [
    "inputs"
   ]
  }
 ],
 "metadata": {
  "kernelspec": {
   "display_name": "Python 3",
   "language": "python",
   "name": "python3"
  },
  "language_info": {
   "codemirror_mode": {
    "name": "ipython",
    "version": 3
   },
   "file_extension": ".py",
   "mimetype": "text/x-python",
   "name": "python",
   "nbconvert_exporter": "python",
   "pygments_lexer": "ipython3",
   "version": "3.8.5"
  }
 },
 "nbformat": 4,
 "nbformat_minor": 4
}

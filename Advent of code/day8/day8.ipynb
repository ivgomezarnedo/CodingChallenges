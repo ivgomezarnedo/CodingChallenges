{
 "cells": [
  {
   "cell_type": "code",
   "execution_count": null,
   "metadata": {},
   "outputs": [],
   "source": [
    "#https://adventofcode.com/2020/day/8"
   ]
  },
  {
   "cell_type": "code",
   "execution_count": null,
   "metadata": {},
   "outputs": [],
   "source": [
    "\"\"\"\n",
    "acc increases or decreases a single global value called the accumulator by the value given in the argument. For example, acc +7 would increase the accumulator by 7. The accumulator starts at 0. After an acc instruction, the instruction immediately below it is executed next.\n",
    "jmp jumps to a new instruction relative to itself. The next instruction to execute is found using the argument as an offset from the jmp instruction; for example, jmp +2 would skip the next instruction, jmp +1 would continue to the instruction immediately below it, and jmp -20 would cause the instruction 20 lines above to be executed next.\n",
    "nop stands for No OPeration - it does nothing. The instruction immediately below it is executed next.\n",
    "\"\"\""
   ]
  },
  {
   "cell_type": "code",
   "execution_count": 1,
   "metadata": {},
   "outputs": [],
   "source": [
    "lines = open('input.txt').readlines()"
   ]
  },
  {
   "cell_type": "code",
   "execution_count": 2,
   "metadata": {},
   "outputs": [],
   "source": [
    "def readFile():\n",
    "    instructions_list=[]\n",
    "    for line in lines:\n",
    "        instruction=[line.split(\" \")[0],int(line.split(\" \")[1][:-1]),'']\n",
    "        instructions_list.append(instruction)\n",
    "    return instructions_list"
   ]
  },
  {
   "cell_type": "code",
   "execution_count": 3,
   "metadata": {},
   "outputs": [],
   "source": [
    "def accum_calculate(start,instructions_list):\n",
    "    accum=0\n",
    "    for idx, instruction in enumerate(instructions_list[start:]):\n",
    "        if(instruction[2]==''):\n",
    "            if(instruction[0]=='acc'):\n",
    "                accum+=instruction[1]\n",
    "                instruction[2]='x'\n",
    "            elif(instruction[0]=='jmp'):\n",
    "                #Call to function accum_calculate(idx+instruction[1])\n",
    "                instruction[2]='x'\n",
    "                return accum+accum_calculate(idx+start+instruction[1],instructions_list)\n",
    "        else:\n",
    "            return accum"
   ]
  },
  {
   "cell_type": "code",
   "execution_count": 4,
   "metadata": {},
   "outputs": [
    {
     "name": "stdout",
     "output_type": "stream",
     "text": [
      "2014\n"
     ]
    }
   ],
   "source": [
    "instructions_list=readFile()\n",
    "print(accum_calculate(0,instructions_list))"
   ]
  },
  {
   "cell_type": "code",
   "execution_count": 5,
   "metadata": {},
   "outputs": [],
   "source": [
    "#2\n",
    "def jumps_calculate(start,instructions_list):\n",
    "    jumps=[]\n",
    "    for idx, instruction in enumerate(instructions_list[start:]):\n",
    "        if(instruction[2]==''):\n",
    "            if(instruction[0]=='acc'):\n",
    "                instruction[2]='x'\n",
    "            elif(instruction[0]=='jmp'):\n",
    "                jumps.append(idx+start)\n",
    "                instruction[2]='x'\n",
    "                return jumps+jumps_calculate(idx+start+instruction[1],instructions_list)\n",
    "        else:\n",
    "            return jumps"
   ]
  },
  {
   "cell_type": "code",
   "execution_count": 6,
   "metadata": {},
   "outputs": [],
   "source": [
    "instructions_list=readFile()\n",
    "jumps=jumps_calculate(0,instructions_list)"
   ]
  },
  {
   "cell_type": "code",
   "execution_count": 9,
   "metadata": {},
   "outputs": [],
   "source": [
    "last_jump=0\n",
    "first_time=True\n",
    "def accum_calculate2(start,instructions_list):\n",
    "    global last_jump\n",
    "    global first_time\n",
    "    accum=0\n",
    "    for idx, instruction in enumerate(instructions_list[start:]):\n",
    "        if(instruction[2]==''):\n",
    "            if(instruction[0]=='acc'):\n",
    "                accum+=instruction[1]\n",
    "                instruction[2]='x'\n",
    "            elif(instruction[0]=='jmp'):\n",
    "                if(first_time):\n",
    "                    last_jump=idx+start\n",
    "                instruction[2]='x'\n",
    "                return accum+accum_calculate2(idx+start+instruction[1],instructions_list)\n",
    "        else:\n",
    "            instructions_list=readFile()\n",
    "            if(first_time):\n",
    "                first_time=False\n",
    "            else:\n",
    "                last_jump=jumps[jumps.index(last_jump)-1]\n",
    "            instructions_list[last_jump][0]='nop'\n",
    "            accum=accum_calculate2(0,instructions_list)\n",
    "            print(\"Last_accum:\"+str(accum))\n",
    "            return accum\n",
    "    return accum"
   ]
  },
  {
   "cell_type": "code",
   "execution_count": 10,
   "metadata": {},
   "outputs": [
    {
     "name": "stdout",
     "output_type": "stream",
     "text": [
      "Last_accum:2251\n",
      "Last_accum:4342\n",
      "6356\n"
     ]
    }
   ],
   "source": [
    "instructions_list=readFile()\n",
    "print(accum_calculate2(0,instructions_list))"
   ]
  }
 ],
 "metadata": {
  "kernelspec": {
   "display_name": "Python 3",
   "language": "python",
   "name": "python3"
  },
  "language_info": {
   "codemirror_mode": {
    "name": "ipython",
    "version": 3
   },
   "file_extension": ".py",
   "mimetype": "text/x-python",
   "name": "python",
   "nbconvert_exporter": "python",
   "pygments_lexer": "ipython3",
   "version": "3.7.6"
  }
 },
 "nbformat": 4,
 "nbformat_minor": 4
}

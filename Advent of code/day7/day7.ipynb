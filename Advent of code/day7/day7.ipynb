{
 "cells": [
  {
   "cell_type": "code",
   "execution_count": null,
   "metadata": {},
   "outputs": [],
   "source": [
    "#https://adventofcode.com/2020/day/7"
   ]
  },
  {
   "cell_type": "code",
   "execution_count": null,
   "metadata": {},
   "outputs": [],
   "source": [
    "\"\"\"\n",
    "--- Day 7: Handy Haversacks ---\n",
    "You land at the regional airport in time for your next flight. In fact, it looks like you'll even have time to grab some food: all flights are currently delayed due to issues in luggage processing.\n",
    "\n",
    "Due to recent aviation regulations, many rules (your puzzle input) are being enforced about bags and their contents; bags must be color-coded and must contain specific quantities of other color-coded bags. Apparently, nobody responsible for these regulations considered how long they would take to enforce!\n",
    "\n",
    "For example, consider the following rules:\n",
    "\n",
    "light red bags contain 1 bright white bag, 2 muted yellow bags.\n",
    "dark orange bags contain 3 bright white bags, 4 muted yellow bags.\n",
    "bright white bags contain 1 shiny gold bag.\n",
    "muted yellow bags contain 2 shiny gold bags, 9 faded blue bags.\n",
    "shiny gold bags contain 1 dark olive bag, 2 vibrant plum bags.\n",
    "dark olive bags contain 3 faded blue bags, 4 dotted black bags.\n",
    "vibrant plum bags contain 5 faded blue bags, 6 dotted black bags.\n",
    "faded blue bags contain no other bags.\n",
    "dotted black bags contain no other bags.\n",
    "These rules specify the required contents for 9 bag types. In this example, every faded blue bag is empty, every vibrant plum bag contains 11 bags (5 faded blue and 6 dotted black), and so on.\n",
    "\n",
    "You have a shiny gold bag. If you wanted to carry it in at least one other bag, how many different bag colors would be valid for the outermost bag? (In other words: how many colors can, eventually, contain at least one shiny gold bag?)\n",
    "\n",
    "In the above rules, the following options would be available to you:\n",
    "\n",
    "A bright white bag, which can hold your shiny gold bag directly.\n",
    "A muted yellow bag, which can hold your shiny gold bag directly, plus some other bags.\n",
    "A dark orange bag, which can hold bright white and muted yellow bags, either of which could then hold your shiny gold bag.\n",
    "A light red bag, which can hold bright white and muted yellow bags, either of which could then hold your shiny gold bag.\n",
    "So, in this example, the number of bag colors that can eventually contain at least one shiny gold bag is 4.\n",
    "\n",
    "How many bag colors can eventually contain at least one shiny gold bag? (The list of rules is quite long; make sure you get all of it.)\n",
    "\n",
    "Your puzzle answer was 185.\n",
    "\n",
    "--- Part Two ---\n",
    "It's getting pretty expensive to fly these days - not because of ticket prices, but because of the ridiculous number of bags you need to buy!\n",
    "\n",
    "Consider again your shiny gold bag and the rules from the above example:\n",
    "\n",
    "faded blue bags contain 0 other bags.\n",
    "dotted black bags contain 0 other bags.\n",
    "vibrant plum bags contain 11 other bags: 5 faded blue bags and 6 dotted black bags.\n",
    "dark olive bags contain 7 other bags: 3 faded blue bags and 4 dotted black bags.\n",
    "So, a single shiny gold bag must contain 1 dark olive bag (and the 7 bags within it) plus 2 vibrant plum bags (and the 11 bags within each of those): 1 + 1*7 + 2 + 2*11 = 32 bags!\n",
    "\n",
    "Of course, the actual rules have a small chance of going several levels deeper than this example; be sure to count all of the bags, even if the nesting becomes topologically impractical!\n",
    "\n",
    "Here's another example:\n",
    "\n",
    "shiny gold bags contain 2 dark red bags.\n",
    "dark red bags contain 2 dark orange bags.\n",
    "dark orange bags contain 2 dark yellow bags.\n",
    "dark yellow bags contain 2 dark green bags.\n",
    "dark green bags contain 2 dark blue bags.\n",
    "dark blue bags contain 2 dark violet bags.\n",
    "dark violet bags contain no other bags.\n",
    "In this example, a single shiny gold bag must contain 126 other bags.\n",
    "\n",
    "How many individual bags are required inside your single shiny gold bag?\n",
    "\n",
    "Your puzzle answer was 89084.\n",
    "\n",
    "Both parts of this puzzle are complete! They provide two gold stars: **\n",
    "\n",
    "At this point, you should return to your Advent calendar and try another puzzle.\n",
    "\n",
    "If you still want to see it, you can get your puzzle input.\n",
    "\n",
    "You can also [Share] this puzzle.\n",
    "\"\"\""
   ]
  },
  {
   "cell_type": "code",
   "execution_count": 59,
   "metadata": {},
   "outputs": [
    {
     "name": "stdout",
     "output_type": "stream",
     "text": [
      "185\n"
     ]
    }
   ],
   "source": [
    "from collections import defaultdict\n",
    "\n",
    "rules = open('input.txt').readlines()\n",
    "isin = defaultdict(set)\n",
    "\n",
    "for r in rules:\n",
    "    parent, contents = r[:-2].split(' bags contain ')#Remove point and trailing whitespace\n",
    "    childs = contents.split(',')\n",
    "    for c in childs:\n",
    "        if c != 'no other bags':\n",
    "            color = ' '.join(c.strip().split()[1:-1]) #Toma segundo y penúltimo\n",
    "            isin[color].add(parent)\n",
    "\n",
    "def potential_containers(bag_color):\n",
    "    contained_in = isin[bag_color]\n",
    "    if len(contained_in) == 0:\n",
    "        return contained_in\n",
    "    return contained_in.union(c2 for c in contained_in for c2 in potential_containers(c))\n",
    "\n",
    "\n",
    "print(len(potential_containers('shiny gold')))"
   ]
  },
  {
   "cell_type": "code",
   "execution_count": 60,
   "metadata": {},
   "outputs": [
    {
     "name": "stdout",
     "output_type": "stream",
     "text": [
      "{'dim violet', 'faded aqua', 'striped lime', 'muted magenta', 'striped turquoise', 'plaid teal', 'clear gray', 'dotted violet'}\n",
      "{'dim violet', 'faded aqua', 'striped lime', 'muted magenta', 'striped turquoise', 'plaid teal', 'clear gray', 'dotted violet'}\n",
      "{'dim violet', 'faded aqua', 'striped lime', 'muted magenta', 'striped turquoise', 'plaid teal', 'clear gray', 'dotted violet'}\n",
      "{'dim violet', 'faded aqua', 'striped lime', 'muted magenta', 'striped turquoise', 'plaid teal', 'clear gray', 'dotted violet'}\n",
      "{'dim violet', 'faded aqua', 'striped lime', 'muted magenta', 'striped turquoise', 'plaid teal', 'clear gray', 'dotted violet'}\n",
      "{'dim violet', 'faded aqua', 'striped lime', 'muted magenta', 'striped turquoise', 'plaid teal', 'clear gray', 'dotted violet'}\n",
      "{'dim violet', 'faded aqua', 'striped lime', 'muted magenta', 'striped turquoise', 'plaid teal', 'clear gray', 'dotted violet'}\n",
      "{'dim violet', 'faded aqua', 'striped lime', 'muted magenta', 'striped turquoise', 'plaid teal', 'clear gray', 'dotted violet'}\n",
      "{'dim violet', 'faded aqua', 'striped lime', 'muted magenta', 'striped turquoise', 'plaid teal', 'clear gray', 'dotted violet'}\n"
     ]
    }
   ],
   "source": [
    "contained_in = isin['shiny gold']\n",
    "print(contained_in)\n",
    "for c in contained_in:\n",
    "    print(contained_in)"
   ]
  },
  {
   "cell_type": "code",
   "execution_count": 2,
   "metadata": {},
   "outputs": [
    {
     "name": "stdout",
     "output_type": "stream",
     "text": [
      "89084\n"
     ]
    }
   ],
   "source": [
    "#2\n",
    "rules = open('input.txt').readlines()\n",
    "\n",
    "def parse_rule(r):\n",
    "    parent, contents = r[:-2].split(' bags contain ')\n",
    "    childs =  [parse_child_bag(c) for c in contents.split(',') if c != 'no other bags']\n",
    "    return (parent, childs)\n",
    "\n",
    "def parse_child_bag(child_st):\n",
    "    cparts = child_st.split()\n",
    "    qty = int(cparts[0])\n",
    "    color = ' '.join(cparts[1:-1])\n",
    "    return (color, qty)\n",
    "\n",
    "def required_contents(bag_color):\n",
    "    return sum(q + q * required_contents(color) for color, q in contains[bag_color] )\n",
    "\n",
    "contains = dict(parse_rule(r) for r in rules)\n",
    "\n",
    "print(required_contents('shiny gold'))"
   ]
  }
 ],
 "metadata": {
  "kernelspec": {
   "display_name": "Python 3",
   "language": "python",
   "name": "python3"
  },
  "language_info": {
   "codemirror_mode": {
    "name": "ipython",
    "version": 3
   },
   "file_extension": ".py",
   "mimetype": "text/x-python",
   "name": "python",
   "nbconvert_exporter": "python",
   "pygments_lexer": "ipython3",
   "version": "3.7.6"
  }
 },
 "nbformat": 4,
 "nbformat_minor": 4
}

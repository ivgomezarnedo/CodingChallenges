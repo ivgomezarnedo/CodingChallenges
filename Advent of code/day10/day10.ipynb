{
 "cells": [
  {
   "cell_type": "code",
   "execution_count": null,
   "metadata": {},
   "outputs": [],
   "source": [
    "#https://adventofcode.com/2020/day/10"
   ]
  },
  {
   "cell_type": "code",
   "execution_count": 32,
   "metadata": {},
   "outputs": [],
   "source": [
    "data = open(\"input.txt\").read().strip().split('\\n')"
   ]
  },
  {
   "cell_type": "code",
   "execution_count": 33,
   "metadata": {},
   "outputs": [],
   "source": [
    "adapters_ordered = list(map(int, data))\n",
    "adapters_ordered.append(0)\n",
    "adapters_ordered.append(max(adapters_ordered)+3)"
   ]
  },
  {
   "cell_type": "code",
   "execution_count": 34,
   "metadata": {},
   "outputs": [],
   "source": [
    "adapters_ordered.sort()"
   ]
  },
  {
   "cell_type": "code",
   "execution_count": 42,
   "metadata": {},
   "outputs": [],
   "source": [
    "lista=[16,\n",
    "10,\n",
    "15,\n",
    "5,\n",
    "1,\n",
    "11,\n",
    "7,\n",
    "19,\n",
    "6,\n",
    "12,\n",
    "4]"
   ]
  },
  {
   "cell_type": "code",
   "execution_count": 43,
   "metadata": {},
   "outputs": [],
   "source": [
    "lista.append(0)\n",
    "lista.append(max(lista)+3)\n",
    "lista.sort()"
   ]
  },
  {
   "cell_type": "code",
   "execution_count": 44,
   "metadata": {},
   "outputs": [
    {
     "data": {
      "text/plain": [
       "[0, 1, 4, 5, 6, 7, 10, 11, 12, 15, 16, 19, 22]"
      ]
     },
     "execution_count": 44,
     "metadata": {},
     "output_type": "execute_result"
    }
   ],
   "source": [
    "lista"
   ]
  },
  {
   "cell_type": "code",
   "execution_count": 54,
   "metadata": {},
   "outputs": [
    {
     "name": "stdout",
     "output_type": "stream",
     "text": [
      "Solución: 2516\n"
     ]
    }
   ],
   "source": [
    "three_counter=0\n",
    "one_counter=0\n",
    "for idx,adapter in enumerate(adapters_ordered):\n",
    "    if(idx>0):\n",
    "        if((adapter-previous_jolt)==1):\n",
    "            one_counter+=1\n",
    "        elif((adapter-previous_jolt)==3):\n",
    "            three_counter+=1\n",
    "    previous_jolt=adapter\n",
    "\n",
    "print(\"Solución: \"+str(three_counter*one_counter))\n",
    "    "
   ]
  },
  {
   "cell_type": "code",
   "execution_count": 56,
   "metadata": {},
   "outputs": [
    {
     "name": "stdout",
     "output_type": "stream",
     "text": [
      "Part 2: 296196766695424\n"
     ]
    }
   ],
   "source": [
    "#Part2\n",
    "def readAdapters(inpath=\"input.txt\"):\n",
    "    with open(inpath, 'r') as infile:\n",
    "        return [0] + sorted(list(map(int, infile.read().splitlines())))\n",
    "    \n",
    "def part2(adapters):\n",
    "    paths = [1] + [0] * (len(adapters) - 1)\n",
    "    for i, adapter in enumerate(adapters):\n",
    "        for j in range(i - 3, i):\n",
    "            if(adapter - adapters[j] <= 3):\n",
    "                paths[i] += paths[j]\n",
    "\n",
    "    return paths[-1]\n",
    "\n",
    "\n",
    "def main():\n",
    "    adapters = readAdapters()\n",
    "    print(f\"Part 2: {part2(adapters)}\")\n",
    "\n",
    "\n",
    "main()"
   ]
  }
 ],
 "metadata": {
  "kernelspec": {
   "display_name": "Python 3",
   "language": "python",
   "name": "python3"
  },
  "language_info": {
   "codemirror_mode": {
    "name": "ipython",
    "version": 3
   },
   "file_extension": ".py",
   "mimetype": "text/x-python",
   "name": "python",
   "nbconvert_exporter": "python",
   "pygments_lexer": "ipython3",
   "version": "3.7.6"
  }
 },
 "nbformat": 4,
 "nbformat_minor": 4
}

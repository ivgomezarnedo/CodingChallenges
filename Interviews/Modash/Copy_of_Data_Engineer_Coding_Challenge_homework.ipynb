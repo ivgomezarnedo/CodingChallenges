{
  "nbformat": 4,
  "nbformat_minor": 0,
  "metadata": {
    "colab": {
      "provenance": []
    },
    "kernelspec": {
      "name": "python3",
      "display_name": "Python 3"
    },
    "language_info": {
      "name": "python"
    }
  },
  "cells": [
    {
      "cell_type": "markdown",
      "source": [
        "# Problem description"
      ],
      "metadata": {
        "id": "N5eXl9rhpY5j"
      }
    },
    {
      "cell_type": "markdown",
      "source": [
        "## Challenge: Spark-Based Social Media Post Analysis\n",
        "\n",
        "### Goal\n",
        "   Create a PySpark script, which takes a CSV file as an input, to process and analyze a dataset comprising social media posts. This dataset includes various metrics and information related to each post.\n",
        "### Dataset\n",
        "File: *social_media_data.csv*. Contains columns for:\n",
        "\n",
        "* Post ID (post_id)\n",
        "* Like Count (like_count)\n",
        "* Comment Count (comment_count)\n",
        "* Post Description (post_description)\n",
        "* Post Date (post_date)\n",
        "* Username of the Influencer (username)\n",
        "* Follower Count of the Influencer (follower_count)\n",
        "\n",
        "### Tasks\n",
        "   * Data Preparation (has to be solved within 30 minutes to continue further):\n",
        "\t   * Load the dataset from social_media_data.csv.\n",
        "\t   * Clean the data by addressing missing or improperly formatted values according to the following rules:\n",
        "\t\t\t* Treat all numerical strings as numbers, except for post_id.\n",
        "\t\t\t* Default undefined numbers to zero.\n",
        "\t\t\t* In mixed string-number fields, extract and use only the numeric part. For example, \"123ab\" should be considered as \"123\" (as number)\n",
        "\n",
        "   * Data Enrichment:\n",
        "\t   * Add a new column with the post date in ISO format (yyyy-MM-dd).\n",
        "\t   * Compute and add an engagement rate for each post using the formula: (Likes + Comments) / Followers.\n",
        "\n",
        "   * Data Summarization:\n",
        "\t   * Aggregate the data to calculate the total engagement rate for each influencer.\n",
        "\t   * Create a summary dataframe featuring total likes, total comments, and total engagement rate for each influencer.\n",
        "\n",
        "   * Content Analysis:\n",
        "\t   * Extract and store hashtags (e.g., #hashtag) from the post descriptions into a new column. Could be multiple or none.\n",
        "\t   * Extract and store user mentions (e.g., @username) from the post descriptions into another new column. Could be multiple or none.\n",
        "\n",
        "   * Data Filtering and Ordering:\n",
        "\t   * Filter to include only the posts from the last week of november.\n",
        "\t   * Sort this subset by engagement rate in descending order.\n",
        "\n",
        "\n",
        "### Deliverables\n",
        "A Colab Notebook that uses PySpark to perform the specified tasks.\n",
        "\n",
        "### Evaluation Criteria\n",
        "* Accuracy and effectiveness in data manipulation and analysis.\n",
        "* Clarity and maintainability of the code.\n",
        "* Performance and scalability of the solution.\n",
        "* Depth and relevance of insights during the challenge.\n",
        "\n",
        "### Time Frame\n",
        "Complete the challenge within 1 hour."
      ],
      "metadata": {
        "id": "pLWxeZpNs-cC"
      }
    },
    {
      "cell_type": "markdown",
      "source": [
        "# PySpark installation"
      ],
      "metadata": {
        "id": "8NZU414DtKqZ"
      }
    },
    {
      "cell_type": "code",
      "execution_count": null,
      "metadata": {
        "id": "8Z7xUuK-nR3o",
        "outputId": "f61ea9fe-7937-4947-dfa7-ee27ea7e46ad",
        "colab": {
          "base_uri": "https://localhost:8080/"
        }
      },
      "outputs": [
        {
          "output_type": "stream",
          "name": "stdout",
          "text": [
            "Collecting pyspark\n",
            "  Downloading pyspark-3.5.1.tar.gz (317.0 MB)\n",
            "\u001b[2K     \u001b[90m━━━━━━━━━━━━━━━━━━━━━━━━━━━━━━━━━━━━━━━━\u001b[0m \u001b[32m317.0/317.0 MB\u001b[0m \u001b[31m2.0 MB/s\u001b[0m eta \u001b[36m0:00:00\u001b[0m\n",
            "\u001b[?25h  Preparing metadata (setup.py) ... \u001b[?25l\u001b[?25hdone\n",
            "Requirement already satisfied: py4j==0.10.9.7 in /usr/local/lib/python3.10/dist-packages (from pyspark) (0.10.9.7)\n",
            "Building wheels for collected packages: pyspark\n",
            "  Building wheel for pyspark (setup.py) ... \u001b[?25l\u001b[?25hdone\n",
            "  Created wheel for pyspark: filename=pyspark-3.5.1-py2.py3-none-any.whl size=317488493 sha256=1c5813d468adac3486e3a2ba0ea1aed6eb4ab622788ace8ab4b5540a2e4d1445\n",
            "  Stored in directory: /root/.cache/pip/wheels/80/1d/60/2c256ed38dddce2fdd93be545214a63e02fbd8d74fb0b7f3a6\n",
            "Successfully built pyspark\n",
            "Installing collected packages: pyspark\n",
            "Successfully installed pyspark-3.5.1\n"
          ]
        }
      ],
      "source": [
        "!pip install pyspark"
      ]
    },
    {
      "cell_type": "markdown",
      "source": [
        "# Download data"
      ],
      "metadata": {
        "id": "_T1rYG6p-l7I"
      }
    },
    {
      "cell_type": "code",
      "source": [
        "!wget -O social_media_data.csv https://drive.google.com/uc?id=1qweracaidNpm5k3j3myxHo0ODp757fKm"
      ],
      "metadata": {
        "colab": {
          "base_uri": "https://localhost:8080/"
        },
        "id": "Ibrn9Lip-rhl",
        "outputId": "fa48e2b1-893b-4fce-d1af-4fde1f03fab1"
      },
      "execution_count": null,
      "outputs": [
        {
          "output_type": "stream",
          "name": "stdout",
          "text": [
            "--2024-02-29 09:29:36--  https://drive.google.com/uc?id=1qweracaidNpm5k3j3myxHo0ODp757fKm\n",
            "Resolving drive.google.com (drive.google.com)... 74.125.141.138, 74.125.141.113, 74.125.141.101, ...\n",
            "Connecting to drive.google.com (drive.google.com)|74.125.141.138|:443... connected.\n",
            "HTTP request sent, awaiting response... 303 See Other\n",
            "Location: https://drive.usercontent.google.com/download?id=1qweracaidNpm5k3j3myxHo0ODp757fKm [following]\n",
            "--2024-02-29 09:29:36--  https://drive.usercontent.google.com/download?id=1qweracaidNpm5k3j3myxHo0ODp757fKm\n",
            "Resolving drive.usercontent.google.com (drive.usercontent.google.com)... 74.125.196.132, 2607:f8b0:400c:c36::84\n",
            "Connecting to drive.usercontent.google.com (drive.usercontent.google.com)|74.125.196.132|:443... connected.\n",
            "HTTP request sent, awaiting response... 200 OK\n",
            "Length: 28040 (27K) [application/octet-stream]\n",
            "Saving to: ‘social_media_data.csv’\n",
            "\n",
            "social_media_data.c 100%[===================>]  27.38K  --.-KB/s    in 0.001s  \n",
            "\n",
            "2024-02-29 09:29:36 (42.2 MB/s) - ‘social_media_data.csv’ saved [28040/28040]\n",
            "\n"
          ]
        }
      ]
    },
    {
      "cell_type": "markdown",
      "source": [
        "# Code"
      ],
      "metadata": {
        "id": "10E8VmL8-g1q"
      }
    },
    {
      "cell_type": "markdown",
      "source": [
        "## Data Preparation"
      ],
      "metadata": {
        "id": "3bQwLI0KMjQH"
      }
    },
    {
      "cell_type": "markdown",
      "source": [
        "### Load the dataset from social_media_data.csv."
      ],
      "metadata": {
        "id": "P0alB4UpOARd"
      }
    },
    {
      "cell_type": "markdown",
      "source": [],
      "metadata": {
        "id": "apjOW0mN-bgL"
      }
    },
    {
      "cell_type": "code",
      "source": [
        "from pyspark.sql import SparkSession\n",
        "\n",
        "# Start SparkSession\n",
        "spark = SparkSession.builder.master(\"local[*]\").appName(\"SocialMediaDataAnalysis\").getOrCreate()\n"
      ],
      "metadata": {
        "id": "WKO0HexpyveX"
      },
      "execution_count": null,
      "outputs": []
    },
    {
      "cell_type": "code",
      "source": [
        "df = spark.read.format(\"csv\").option(\"header\",\"true\").option(\"delimiter\", \"|\").load(\"social_media_data.csv\")"
      ],
      "metadata": {
        "id": "XvJ7MENvNW6M"
      },
      "execution_count": null,
      "outputs": []
    },
    {
      "cell_type": "code",
      "source": [
        "df.show()"
      ],
      "metadata": {
        "id": "Pur1azYGNV_S",
        "outputId": "1b8a8418-9dd8-4f55-cbde-c8c9139e5536",
        "colab": {
          "base_uri": "https://localhost:8080/"
        }
      },
      "execution_count": null,
      "outputs": [
        {
          "output_type": "stream",
          "name": "stdout",
          "text": [
            "+-------------------+----------+-------------+--------------------+----------------+--------------+----------+\n",
            "|            post_id|like_count|comment_count|    post_description|        username|follower_count| post_date|\n",
            "+-------------------+----------+-------------+--------------------+----------------+--------------+----------+\n",
            "|3247472340898021032|      1900|           14|I see, I buy it.?...|grebenisancarmen|        691934|1701348910|\n",
            "|3247012161022596826|      1666|           14|We call it “bârfe...|grebenisancarmen|        691934|1701294183|\n",
            "|3246621589263013232|      1414|           27|How to style a le...|grebenisancarmen|        691934|1701247491|\n",
            "|3245884952484566080|      1931|           29|Teddy sets are my...|grebenisancarmen|        691934|1701159677|\n",
            "|3245155721815515538|       818|           12|Styling ZARA MEN ...|grebenisancarmen|        691934|1701072747|\n",
            "|3243258903187852328|      1732|           24|Am descoperit ace...|grebenisancarmen|        691934|1700846703|\n",
            "|3242582939801950377|     24213|        13879|Travel Giveaway⛰️...|grebenisancarmen|        691934|1700766030|\n",
            "|3242569846896023754|     15822|           38|Ma topesc aici.🥹...|grebenisancarmen|        691934|1700764469|\n",
            "|3242465805281202992|      1976|           14|A place that feel...|grebenisancarmen|        691934|1700752137|\n",
            "|3240847155629602335|      4573|           54|Am cedat si i-am ...|grebenisancarmen|        691934|1700559149|\n",
            "|3240428932014704726|      8189|           66|Cand vine Stefi p...|grebenisancarmen|        691934|1700509324|\n",
            "|3238260482349659807|      2179|           18|Tu cum îți protej...|grebenisancarmen|        691934|1700250888|\n",
            "|3238009771695181271|      1567|           13|Finally autumn ou...|grebenisancarmen|        691934|1700222964|\n",
            "|3236825840765620468|      2047|           19|Dacă ați folosit ...|grebenisancarmen|        691934|1700080293|\n",
            "|3234736256271256144|      3464|           23|It’s a nice life....|grebenisancarmen|        691934|1699830721|\n",
            "|3234651123442832970|      7476|           19|Embrace Holostic ...|grebenisancarmen|        691934|1699820484|\n",
            "|3234632682204035089|      3810|           15|Sauna with a view...|grebenisancarmen|        691934|1699818362|\n",
            "|3234626747137820472|      9950|           25|Weekend getaway a...|grebenisancarmen|        691934|1699817578|\n",
            "|3234403601029826353|      1985|           33|@casatimis , un l...|grebenisancarmen|        691934|1699791240|\n",
            "|3233294046880622549|     16022|           29|Am avut multe dis...|grebenisancarmen|        691934|1699658707|\n",
            "+-------------------+----------+-------------+--------------------+----------------+--------------+----------+\n",
            "only showing top 20 rows\n",
            "\n"
          ]
        }
      ]
    },
    {
      "cell_type": "markdown",
      "source": [
        "### Clean the data by addressing missing or improperly formatted values according to the following rules:\n",
        "- Treat all numerical strings as numbers, except for post_id.\n",
        "- Default undefined numbers to zero.\n",
        "- In mixed string-number fields, extract and use only the numeric part. For example, \"123ab\" should be considered as \"123\" (as number)"
      ],
      "metadata": {
        "id": "WETQUh-8OEop"
      }
    },
    {
      "cell_type": "code",
      "source": [
        "import pyspark.sql.functions as f\n",
        "\n",
        "def clean_numeric_string(column):\n",
        "    # Extracts numeric part of a string. If no numeric part is found, returns 0\n",
        "    return f.regexp_extract(column, '(\\d+)', 0).cast('integer')\n",
        "\n",
        "\n",
        "numeric_fields = [\"like_count\",\"comment_count\",\"follower_count\",\"post_date\"]\n",
        "for column in numeric_fields:\n",
        "  df = df.withColumn(column, clean_numeric_string(column))\n",
        "\n",
        "df_cleaned = df.fillna(0, subset=numeric_fields)"
      ],
      "metadata": {
        "id": "3QwZWcQgPW2q",
        "outputId": "a7041a49-4de3-45c6-bb5c-3c5f9f5802cb",
        "colab": {
          "base_uri": "https://localhost:8080/"
        }
      },
      "execution_count": null,
      "outputs": [
        {
          "output_type": "stream",
          "name": "stdout",
          "text": [
            "+-------------------+----------+-------------+--------------------+----------------+--------------+----------+\n",
            "|            post_id|like_count|comment_count|    post_description|        username|follower_count| post_date|\n",
            "+-------------------+----------+-------------+--------------------+----------------+--------------+----------+\n",
            "|3247472340898021032|      1900|           14|I see, I buy it.?...|grebenisancarmen|        691934|1701348910|\n",
            "|3247012161022596826|      1666|           14|We call it “bârfe...|grebenisancarmen|        691934|1701294183|\n",
            "|3246621589263013232|      1414|           27|How to style a le...|grebenisancarmen|        691934|1701247491|\n",
            "|3245884952484566080|      1931|           29|Teddy sets are my...|grebenisancarmen|        691934|1701159677|\n",
            "|3245155721815515538|       818|           12|Styling ZARA MEN ...|grebenisancarmen|        691934|1701072747|\n",
            "|3243258903187852328|      1732|           24|Am descoperit ace...|grebenisancarmen|        691934|1700846703|\n",
            "|3242582939801950377|     24213|        13879|Travel Giveaway⛰️...|grebenisancarmen|        691934|1700766030|\n",
            "|3242569846896023754|     15822|           38|Ma topesc aici.🥹...|grebenisancarmen|        691934|1700764469|\n",
            "|3242465805281202992|      1976|           14|A place that feel...|grebenisancarmen|        691934|1700752137|\n",
            "|3240847155629602335|      4573|           54|Am cedat si i-am ...|grebenisancarmen|        691934|1700559149|\n",
            "|3240428932014704726|      8189|           66|Cand vine Stefi p...|grebenisancarmen|        691934|1700509324|\n",
            "|3238260482349659807|      2179|           18|Tu cum îți protej...|grebenisancarmen|        691934|1700250888|\n",
            "|3238009771695181271|      1567|           13|Finally autumn ou...|grebenisancarmen|        691934|1700222964|\n",
            "|3236825840765620468|      2047|           19|Dacă ați folosit ...|grebenisancarmen|        691934|1700080293|\n",
            "|3234736256271256144|      3464|           23|It’s a nice life....|grebenisancarmen|        691934|1699830721|\n",
            "|3234651123442832970|      7476|           19|Embrace Holostic ...|grebenisancarmen|        691934|1699820484|\n",
            "|3234632682204035089|      3810|           15|Sauna with a view...|grebenisancarmen|        691934|1699818362|\n",
            "|3234626747137820472|      9950|           25|Weekend getaway a...|grebenisancarmen|        691934|1699817578|\n",
            "|3234403601029826353|      1985|           33|@casatimis , un l...|grebenisancarmen|        691934|1699791240|\n",
            "|3233294046880622549|     16022|           29|Am avut multe dis...|grebenisancarmen|        691934|1699658707|\n",
            "+-------------------+----------+-------------+--------------------+----------------+--------------+----------+\n",
            "only showing top 20 rows\n",
            "\n"
          ]
        }
      ]
    },
    {
      "cell_type": "code",
      "source": [
        "df_cleaned.show(50)"
      ],
      "metadata": {
        "id": "3zVMAXNjcY_G",
        "outputId": "a4a69001-1df7-43d9-b66d-4e00a14f8b59",
        "colab": {
          "base_uri": "https://localhost:8080/"
        }
      },
      "execution_count": null,
      "outputs": [
        {
          "output_type": "stream",
          "name": "stdout",
          "text": [
            "+-------------------+----------+-------------+--------------------+----------------+--------------+----------+\n",
            "|            post_id|like_count|comment_count|    post_description|        username|follower_count| post_date|\n",
            "+-------------------+----------+-------------+--------------------+----------------+--------------+----------+\n",
            "|3247472340898021032|      1900|           14|I see, I buy it.?...|grebenisancarmen|        691934|1701348910|\n",
            "|3247012161022596826|      1666|           14|We call it “bârfe...|grebenisancarmen|        691934|1701294183|\n",
            "|3246621589263013232|      1414|           27|How to style a le...|grebenisancarmen|        691934|1701247491|\n",
            "|3245884952484566080|      1931|           29|Teddy sets are my...|grebenisancarmen|        691934|1701159677|\n",
            "|3245155721815515538|       818|           12|Styling ZARA MEN ...|grebenisancarmen|        691934|1701072747|\n",
            "|3243258903187852328|      1732|           24|Am descoperit ace...|grebenisancarmen|        691934|1700846703|\n",
            "|3242582939801950377|     24213|        13879|Travel Giveaway⛰️...|grebenisancarmen|        691934|1700766030|\n",
            "|3242569846896023754|     15822|           38|Ma topesc aici.🥹...|grebenisancarmen|        691934|1700764469|\n",
            "|3242465805281202992|      1976|           14|A place that feel...|grebenisancarmen|        691934|1700752137|\n",
            "|3240847155629602335|      4573|           54|Am cedat si i-am ...|grebenisancarmen|        691934|1700559149|\n",
            "|3240428932014704726|      8189|           66|Cand vine Stefi p...|grebenisancarmen|        691934|1700509324|\n",
            "|3238260482349659807|      2179|           18|Tu cum îți protej...|grebenisancarmen|        691934|1700250888|\n",
            "|3238009771695181271|      1567|           13|Finally autumn ou...|grebenisancarmen|        691934|1700222964|\n",
            "|3236825840765620468|      2047|           19|Dacă ați folosit ...|grebenisancarmen|        691934|1700080293|\n",
            "|3234736256271256144|      3464|           23|It’s a nice life....|grebenisancarmen|        691934|1699830721|\n",
            "|3234651123442832970|      7476|           19|Embrace Holostic ...|grebenisancarmen|        691934|1699820484|\n",
            "|3234632682204035089|      3810|           15|Sauna with a view...|grebenisancarmen|        691934|1699818362|\n",
            "|3234626747137820472|      9950|           25|Weekend getaway a...|grebenisancarmen|        691934|1699817578|\n",
            "|3234403601029826353|      1985|           33|@casatimis , un l...|grebenisancarmen|        691934|1699791240|\n",
            "|3233294046880622549|     16022|           29|Am avut multe dis...|grebenisancarmen|        691934|1699658707|\n",
            "|3232927431440546411|      3446|           38|Mi-am făcut planu...|grebenisancarmen|        691934|1699615218|\n",
            "|3230997664306985164|       999|            9|Get ready with me...|grebenisancarmen|        691934|1699385351|\n",
            "|3230283239170138225|      6013|           42|Ador ținutele all...|grebenisancarmen|        691934|1699299835|\n",
            "|3229541731924062694|     11201|           86|     Today’s menu.🤍|grebenisancarmen|        691934|1699211460|\n",
            "|3244742748674600261|   3369398|           10|                Trio|     selenagomez|     429686292|1701023499|\n",
            "|3210511391173324619|   2320632|       197512|Today is World Me...|     selenagomez|     429686292|1696942800|\n",
            "|3207642545269759846|   5096997|        29104|My heart is full ...|     selenagomez|     429686292|1696600810|\n",
            "|3206072347504123546|   3636035|        29531|This World Mental...|     selenagomez|     429686292|1696413683|\n",
            "|3205505857331400919|   4417257|        15764|After 3 years. We...|     selenagomez|     429686292|1696346097|\n",
            "|3205502782152347529|   2513804|        11168|This is such a su...|     selenagomez|     429686292|1696345731|\n",
            "|3202884023202717129|   6915215|        23681|       Paris was fun|     selenagomez|     429686292|1696033550|\n",
            "|3197615251720133858|   5392262|        32641|Instagram vs reality|     selenagomez|     429686292|1695406145|\n",
            "|3195297711587308890|   7614695|        54187|                NULL|     selenagomez|     429686292|1695129191|\n",
            "|3193380995676403029|  17409604|        92372|Thas my best frie...|     selenagomez|     429686292|1694900701|\n",
            "|3191813787074492534|   4745271|        17344|A red lip is an i...|     selenagomez|     429686292|1694713875|\n",
            "|3190642162038890578|  15020232|        86865|Thank you SO much...|     selenagomez|     429686292|1694574207|\n",
            "|3186684438116092882|   5843366|        18958|You guys, I know ...|     selenagomez|     429686292|1694102409|\n",
            "|3182336300342229376|   3125881|        11213|@rarebeauty turns...|     selenagomez|     429686292|1693584071|\n",
            "|3181882130905427855|   8653882|         9615|My chosen sister ...|     selenagomez|     429686292|1693529930|\n",
            "|3180439682781991904|   4002382|        16242|                NULL|     selenagomez|     429686292|1693357976|\n",
            "|3177532942975425156|   4455746|        19919|Thank you guys fo...|     selenagomez|     429686292|1693011466|\n",
            "|3176900213066223730|   5346102|        47672|Single Soon is ou...|     selenagomez|     429686292|1692936000|\n",
            "|3176628918536930250|   3253675|        28695|I’ll be single so...|     selenagomez|     429686292|1692903770|\n",
            "|3175306976055915749|   7542006|        48458|Single Soon this ...|     selenagomez|     429686292|1692746335|\n",
            "|3173977161034751074|   5808849|        21921|Sister from anoth...|     selenagomez|     429686292|1692587584|\n",
            "|3171435971584370444|   7354221|        61612|Y’all have been a...|     selenagomez|     429686292|1692284650|\n",
            "|3170040241549929571|   4223649|        19281|You know how much...|     selenagomez|     429686292|1692118266|\n",
            "|3168005368522161703|  10025370|        46820|                NULL|     selenagomez|     429686292|1691875691|\n",
            "|3247620686694697645|    323126|         1382|introducing PRECI...|     kyliejenner|     398959125|1701366576|\n",
            "|3247494679694742627|   1572764|         3144|@interviewmag bts 🤍|     kyliejenner|     398959125|1701351555|\n",
            "+-------------------+----------+-------------+--------------------+----------------+--------------+----------+\n",
            "only showing top 50 rows\n",
            "\n"
          ]
        }
      ]
    },
    {
      "cell_type": "markdown",
      "source": [
        "### Data Enrichment:\n",
        "\n",
        "Add a new column with the post date in ISO format (yyyy-MM-dd).\n",
        "Compute and add an engagement rate for each post using the formula: (Likes + Comments) / Followers.\n"
      ],
      "metadata": {
        "id": "nWrkRRQmRHgh"
      }
    },
    {
      "cell_type": "code",
      "source": [
        "df_iso = df_cleaned.withColumn(\"post_date_iso\", f.from_unixtime(f.col(\"post_date\"), format=\"yyyy-MM-dd\"))"
      ],
      "metadata": {
        "id": "kro0H069RPHj",
        "outputId": "bec2c1c9-795b-4548-e169-f14045e70144",
        "colab": {
          "base_uri": "https://localhost:8080/"
        }
      },
      "execution_count": null,
      "outputs": [
        {
          "output_type": "stream",
          "name": "stdout",
          "text": [
            "+-------------------+----------+-------------+--------------------+----------------+--------------+----------+-------------+\n",
            "|            post_id|like_count|comment_count|    post_description|        username|follower_count| post_date|post_date_iso|\n",
            "+-------------------+----------+-------------+--------------------+----------------+--------------+----------+-------------+\n",
            "|3247472340898021032|      1900|           14|I see, I buy it.?...|grebenisancarmen|        691934|1701348910|   2023-11-30|\n",
            "|3247012161022596826|      1666|           14|We call it “bârfe...|grebenisancarmen|        691934|1701294183|   2023-11-29|\n",
            "|3246621589263013232|      1414|           27|How to style a le...|grebenisancarmen|        691934|1701247491|   2023-11-29|\n",
            "|3245884952484566080|      1931|           29|Teddy sets are my...|grebenisancarmen|        691934|1701159677|   2023-11-28|\n",
            "|3245155721815515538|       818|           12|Styling ZARA MEN ...|grebenisancarmen|        691934|1701072747|   2023-11-27|\n",
            "|3243258903187852328|      1732|           24|Am descoperit ace...|grebenisancarmen|        691934|1700846703|   2023-11-24|\n",
            "|3242582939801950377|     24213|        13879|Travel Giveaway⛰️...|grebenisancarmen|        691934|1700766030|   2023-11-23|\n",
            "|3242569846896023754|     15822|           38|Ma topesc aici.🥹...|grebenisancarmen|        691934|1700764469|   2023-11-23|\n",
            "|3242465805281202992|      1976|           14|A place that feel...|grebenisancarmen|        691934|1700752137|   2023-11-23|\n",
            "|3240847155629602335|      4573|           54|Am cedat si i-am ...|grebenisancarmen|        691934|1700559149|   2023-11-21|\n",
            "|3240428932014704726|      8189|           66|Cand vine Stefi p...|grebenisancarmen|        691934|1700509324|   2023-11-20|\n",
            "|3238260482349659807|      2179|           18|Tu cum îți protej...|grebenisancarmen|        691934|1700250888|   2023-11-17|\n",
            "|3238009771695181271|      1567|           13|Finally autumn ou...|grebenisancarmen|        691934|1700222964|   2023-11-17|\n",
            "|3236825840765620468|      2047|           19|Dacă ați folosit ...|grebenisancarmen|        691934|1700080293|   2023-11-15|\n",
            "|3234736256271256144|      3464|           23|It’s a nice life....|grebenisancarmen|        691934|1699830721|   2023-11-12|\n",
            "|3234651123442832970|      7476|           19|Embrace Holostic ...|grebenisancarmen|        691934|1699820484|   2023-11-12|\n",
            "|3234632682204035089|      3810|           15|Sauna with a view...|grebenisancarmen|        691934|1699818362|   2023-11-12|\n",
            "|3234626747137820472|      9950|           25|Weekend getaway a...|grebenisancarmen|        691934|1699817578|   2023-11-12|\n",
            "|3234403601029826353|      1985|           33|@casatimis , un l...|grebenisancarmen|        691934|1699791240|   2023-11-12|\n",
            "|3233294046880622549|     16022|           29|Am avut multe dis...|grebenisancarmen|        691934|1699658707|   2023-11-10|\n",
            "+-------------------+----------+-------------+--------------------+----------------+--------------+----------+-------------+\n",
            "only showing top 20 rows\n",
            "\n"
          ]
        }
      ]
    },
    {
      "cell_type": "code",
      "source": [
        "df_iso.show()"
      ],
      "metadata": {
        "id": "dlgCJFyPcbjp"
      },
      "execution_count": null,
      "outputs": []
    },
    {
      "cell_type": "markdown",
      "source": [
        "### Data Summarization:\n",
        "\n",
        "Aggregate the data to calculate the total engagement rate for each influencer.\n",
        "Create a summary dataframe featuring total likes, total comments, and total engagement rate for each influencer.\n",
        "\n",
        "\n"
      ],
      "metadata": {
        "id": "lWwhYFjuRlWi"
      }
    },
    {
      "cell_type": "markdown",
      "source": [
        "#### Reviewing duplicates:"
      ],
      "metadata": {
        "id": "49uZeusVXgOs"
      }
    },
    {
      "cell_type": "code",
      "source": [
        "print(df_iso.count())\n",
        "print(df_iso.dropDuplicates(['post_id']).count())"
      ],
      "metadata": {
        "id": "paYTGRa-XTMb",
        "outputId": "be173e62-3f3c-43f8-e7f4-a9eeecf8e395",
        "colab": {
          "base_uri": "https://localhost:8080/"
        }
      },
      "execution_count": null,
      "outputs": [
        {
          "output_type": "stream",
          "name": "stdout",
          "text": [
            "120\n",
            "120\n"
          ]
        }
      ]
    },
    {
      "cell_type": "markdown",
      "source": [
        "There are no duplicates but there could be future cases in which there will be duplicates. That's why we remove possible duplicates by taking the post_id with latest timestamp (in case of a duplicate)"
      ],
      "metadata": {
        "id": "A9zW9bwJXjTq"
      }
    },
    {
      "cell_type": "code",
      "source": [
        "df_unique = df_iso.orderBy(f.col(\"post_date\").desc()).dropDuplicates(['post_id'])"
      ],
      "metadata": {
        "id": "BLU1llDYXw8m"
      },
      "execution_count": null,
      "outputs": []
    },
    {
      "cell_type": "markdown",
      "source": [
        "#### Calculating engagement"
      ],
      "metadata": {
        "id": "FuThZSQQbxs_"
      }
    },
    {
      "cell_type": "code",
      "source": [
        "def calculate_engagement(sum_like_count, sum_comment_count, follower_count):\n",
        "  # Engagament rate calculated as: ((like_count + comment_count)/follower_count)*100 as its a percentage\n",
        "  return f.round((((sum_like_count + sum_comment_count) / follower_count)*100),2).alias(\"engagement_rate_%\")\n",
        "\n",
        "df_summary = df_unique\\\n",
        "            .groupBy(f.col(\"username\"),f.col(\"follower_count\")).agg(\\\n",
        "                                                                    f.sum(f.col(\"like_count\")).alias(\"total_likes\"),\\\n",
        "                                                                    f.sum(f.col(\"comment_count\")).alias(\"total_comments\"),\\\n",
        "                                                                    calculate_engagement(f.sum(f.col(\"like_count\")),f.sum(f.col(\"comment_count\")),f.col(\"follower_count\"))\\\n",
        "                                                                    )"
      ],
      "metadata": {
        "id": "hKZjNyg5WzPV",
        "outputId": "e2d3e19e-50a3-4c51-c93e-b3693cf8af28",
        "colab": {
          "base_uri": "https://localhost:8080/"
        }
      },
      "execution_count": null,
      "outputs": [
        {
          "output_type": "stream",
          "name": "stdout",
          "text": [
            "+----------------+--------------+-----------+--------------+-----------------+\n",
            "|        username|follower_count|total_likes|total_comments|engagement_rate_%|\n",
            "+----------------+--------------+-----------+--------------+-----------------+\n",
            "|     kyliejenner|     398959125|   59407681|        184003|            14.94|\n",
            "|      lidiabuble|       1431173|     140723|          1885|             9.96|\n",
            "|     selenagomez|     429686292|  148086531|        940585|            34.68|\n",
            "|grebenisancarmen|        691934|     134393|         14540|            21.52|\n",
            "|    r.e.m.beauty|       1985029|    1901359|         17130|            96.65|\n",
            "|    arianagrande|     380785988|   62332695|           949|            16.37|\n",
            "|    interviewmag|       1266574|     666865|          2653|            52.86|\n",
            "|        lizgillz|      14019525|    3407189|         11827|            24.39|\n",
            "+----------------+--------------+-----------+--------------+-----------------+\n",
            "\n"
          ]
        }
      ]
    },
    {
      "cell_type": "code",
      "source": [
        "df_summary.show()"
      ],
      "metadata": {
        "id": "PoWaY90zcegQ"
      },
      "execution_count": null,
      "outputs": []
    },
    {
      "cell_type": "markdown",
      "source": [
        "\n",
        "### Content Analysis:\n",
        "\n",
        "Extract and store hashtags (e.g., #hashtag) from the post descriptions into a new column. Could be multiple or none.\n",
        "Extract and store user mentions (e.g., @username) from the post descriptions into another new column. Could be multiple or none.\n"
      ],
      "metadata": {
        "id": "TCf2zEY3RnAb"
      }
    },
    {
      "cell_type": "code",
      "source": [
        "# Extracting hashtags and mentions and replacing empty arrays by NULL.\n",
        "hashtag_pattern = r\"(#\\w+)\"\n",
        "mention_pattern = r\"(@\\w+)\"\n",
        "df_content = df_iso\\\n",
        "             .withColumn(\"hashtags\", f.regexp_extract_all(str=f.col(\"post_description\"), regexp=f.lit(hashtag_pattern)))\\\n",
        "             .withColumn(\"mentions\", f.regexp_extract_all(str=f.col(\"post_description\"), regexp=f.lit(mention_pattern)))\\\n",
        "             .withColumn(\"hashtags\", f.when(f.size(f.col(\"hashtags\"))>0, f.col(\"hashtags\")).otherwise(None))\\\n",
        "             .withColumn(\"mentions\", f.when(f.size(f.col(\"mentions\"))>0, f.col(\"mentions\")).otherwise(None))"
      ],
      "metadata": {
        "id": "rbiI3c2jUJyR"
      },
      "execution_count": null,
      "outputs": []
    },
    {
      "cell_type": "code",
      "source": [
        "df_content.show()"
      ],
      "metadata": {
        "id": "Iu947XaOcgWY",
        "outputId": "567de61d-bd16-4936-b42a-7362090e5b77",
        "colab": {
          "base_uri": "https://localhost:8080/"
        }
      },
      "execution_count": null,
      "outputs": [
        {
          "output_type": "stream",
          "name": "stdout",
          "text": [
            "+-------------------+----------+-------------+--------------------+----------------+--------------+----------+-------------+--------------------+--------------------+\n",
            "|            post_id|like_count|comment_count|    post_description|        username|follower_count| post_date|post_date_iso|            hashtags|            mentions|\n",
            "+-------------------+----------+-------------+--------------------+----------------+--------------+----------+-------------+--------------------+--------------------+\n",
            "|3247472340898021032|      1900|           14|I see, I buy it.?...|grebenisancarmen|        691934|1701348910|   2023-11-30|                NULL|[@hm, @piecesoffi...|\n",
            "|3247012161022596826|      1666|           14|We call it “bârfe...|grebenisancarmen|        691934|1701294183|   2023-11-29|                NULL|     [@nordik_cabin]|\n",
            "|3246621589263013232|      1414|           27|How to style a le...|grebenisancarmen|        691934|1701247491|   2023-11-29|                NULL|[@cosstores, @oys...|\n",
            "|3245884952484566080|      1931|           29|Teddy sets are my...|grebenisancarmen|        691934|1701159677|   2023-11-28|                NULL|      [@infsd, @ugg]|\n",
            "|3245155721815515538|       818|           12|Styling ZARA MEN ...|grebenisancarmen|        691934|1701072747|   2023-11-27|                NULL|                NULL|\n",
            "|3243258903187852328|      1732|           24|Am descoperit ace...|grebenisancarmen|        691934|1700846703|   2023-11-24|                NULL|                NULL|\n",
            "|3242582939801950377|     24213|        13879|Travel Giveaway⛰️...|grebenisancarmen|        691934|1700766030|   2023-11-23|                NULL|[@nordik_cabin, @...|\n",
            "|3242569846896023754|     15822|           38|Ma topesc aici.🥹...|grebenisancarmen|        691934|1700764469|   2023-11-23|                NULL|     [@nordik_cabin]|\n",
            "|3242465805281202992|      1976|           14|A place that feel...|grebenisancarmen|        691934|1700752137|   2023-11-23|                NULL|     [@nordik_cabin]|\n",
            "|3240847155629602335|      4573|           54|Am cedat si i-am ...|grebenisancarmen|        691934|1700559149|   2023-11-21|[#MustardSeed, #U...|        [@hypeboost]|\n",
            "|3240428932014704726|      8189|           66|Cand vine Stefi p...|grebenisancarmen|        691934|1700509324|   2023-11-20|                NULL|                NULL|\n",
            "|3238260482349659807|      2179|           18|Tu cum îți protej...|grebenisancarmen|        691934|1700250888|   2023-11-17|[#HONORShareYourV...|                NULL|\n",
            "|3238009771695181271|      1567|           13|Finally autumn ou...|grebenisancarmen|        691934|1700222964|   2023-11-17|                NULL|[@rhizome, @strad...|\n",
            "|3236825840765620468|      2047|           19|Dacă ați folosit ...|grebenisancarmen|        691934|1700080293|   2023-11-15|[#CicaplastB5, #P...|     [@larocheposay]|\n",
            "|3234736256271256144|      3464|           23|It’s a nice life....|grebenisancarmen|        691934|1699830721|   2023-11-12|                NULL|     [@alexmilitaru]|\n",
            "|3234651123442832970|      7476|           19|Embrace Holostic ...|grebenisancarmen|        691934|1699820484|   2023-11-12|                NULL|        [@casatimis]|\n",
            "|3234632682204035089|      3810|           15|Sauna with a view...|grebenisancarmen|        691934|1699818362|   2023-11-12|                NULL|        [@casatimis]|\n",
            "|3234626747137820472|      9950|           25|Weekend getaway a...|grebenisancarmen|        691934|1699817578|   2023-11-12|                NULL|        [@casatimis]|\n",
            "|3234403601029826353|      1985|           33|@casatimis , un l...|grebenisancarmen|        691934|1699791240|   2023-11-12|                NULL|        [@casatimis]|\n",
            "|3233294046880622549|     16022|           29|Am avut multe dis...|grebenisancarmen|        691934|1699658707|   2023-11-10|                NULL|[@casatimis, @cas...|\n",
            "+-------------------+----------+-------------+--------------------+----------------+--------------+----------+-------------+--------------------+--------------------+\n",
            "only showing top 20 rows\n",
            "\n"
          ]
        }
      ]
    },
    {
      "cell_type": "markdown",
      "source": [
        "### Data Filtering and Ordering:\n",
        "\n",
        "Filter to include only the posts from the last week of november.\n",
        "Sort this subset by engagement rate in descending order"
      ],
      "metadata": {
        "id": "uifnT0SgRpTj"
      }
    },
    {
      "cell_type": "code",
      "source": [
        "from datetime import datetime\n",
        "from pyspark.sql.functions import udf\n",
        "from pyspark.sql.types import BooleanType\n",
        "\n",
        "\n",
        "def is_in_november_last_week(post_date_timestamp:str) -> bool:\n",
        "  # YEAR agnostic function to calculate if a given timestamp is in the last week of November of that day.\n",
        "  post_date = datetime.fromtimestamp(post_date_timestamp)\n",
        "  year = post_date.year\n",
        "  last_day_of_november = datetime(year, 11, 30)\n",
        "  weekday = last_day_of_november.weekday()\n",
        "  day_start_of_last_week = last_day_of_november.day - weekday\n",
        "  first_day_of_last_week = datetime(year, 11, day_start_of_last_week)\n",
        "  return first_day_of_last_week <= post_date <= last_day_of_november\n",
        "\n",
        "is_in_november_last_week_udf = udf(is_in_november_last_week, BooleanType()) # Maybe it's not the most optimized solution.\n"
      ],
      "metadata": {
        "id": "9mFfYODbYZCo"
      },
      "execution_count": null,
      "outputs": []
    },
    {
      "cell_type": "code",
      "source": [
        "df_ordered = df_iso\\\n",
        "              .join(df_summary.select(\"username\",\"engagement_rate_%\"), [\"username\"])\\\n",
        "              .filter(is_in_november_last_week_udf(f.col(\"post_date\"))==True)\\\n",
        "              .orderBy(f.col(\"engagement_rate_%\").desc())"
      ],
      "metadata": {
        "id": "3mPXV_kzTi9F",
        "outputId": "90c094cd-49dd-4a21-f3f2-2263c6fb0e6d",
        "colab": {
          "base_uri": "https://localhost:8080/"
        }
      },
      "execution_count": null,
      "outputs": [
        {
          "output_type": "stream",
          "name": "stdout",
          "text": [
            "+----------------+-------------------+----------+-------------+--------------------+--------------+----------+-------------+-----------------+\n",
            "|        username|            post_id|like_count|comment_count|    post_description|follower_count| post_date|post_date_iso|engagement_rate_%|\n",
            "+----------------+-------------------+----------+-------------+--------------------+--------------+----------+-------------+-----------------+\n",
            "|    interviewmag|3245331176155211241|    666865|         2653|@kyliejenner @int...|       1266574|1701093645|   2023-11-27|            52.86|\n",
            "|grebenisancarmen|3247012161022596826|      1666|           14|We call it “bârfe...|        691934|1701294183|   2023-11-29|            21.52|\n",
            "|grebenisancarmen|3246621589263013232|      1414|           27|How to style a le...|        691934|1701247491|   2023-11-29|            21.52|\n",
            "|grebenisancarmen|3245884952484566080|      1931|           29|Teddy sets are my...|        691934|1701159677|   2023-11-28|            21.52|\n",
            "|grebenisancarmen|3245155721815515538|       818|           12|Styling ZARA MEN ...|        691934|1701072747|   2023-11-27|            21.52|\n",
            "|     kyliejenner|3245618717496693656|   1194682|         5049|    @interviewmag 🤍|     398959125|1701127923|   2023-11-27|            14.94|\n",
            "|     kyliejenner|3245451371023358346|   3341361|         6989|  @interviewmag 🦢🌹|     398959125|1701107973|   2023-11-27|            14.94|\n",
            "|     kyliejenner|3245435655125507326|   2616294|         5681|yummy @interviewm...|     398959125|1701106100|   2023-11-27|            14.94|\n",
            "|      lidiabuble|3245194455088762708|      2398|           37|Thank you @ellero...|       1431173|1701077347|   2023-11-27|             9.96|\n",
            "+----------------+-------------------+----------+-------------+--------------------+--------------+----------+-------------+-----------------+\n",
            "\n"
          ]
        }
      ]
    },
    {
      "cell_type": "code",
      "source": [
        "# last_day_november = Spark date: 2023-11-30\n",
        "# filter(abs(substract_date(last_day_november- post_date_iso)) <= 7)\n",
        ".filter(f.col(\"post_date_iso\").cast(\"date\"))\\"
      ],
      "metadata": {
        "id": "ztbMoQvXkOak"
      },
      "execution_count": null,
      "outputs": []
    },
    {
      "cell_type": "code",
      "source": [
        "df_ordered.show(20)"
      ],
      "metadata": {
        "id": "BiUokJM5cily",
        "outputId": "b9c4d89d-6c32-4598-cfa4-9aa0d6682985",
        "colab": {
          "base_uri": "https://localhost:8080/"
        }
      },
      "execution_count": null,
      "outputs": [
        {
          "output_type": "stream",
          "name": "stdout",
          "text": [
            "+----------------+-------------------+----------+-------------+--------------------+--------------+----------+-------------+-----------------+\n",
            "|        username|            post_id|like_count|comment_count|    post_description|follower_count| post_date|post_date_iso|engagement_rate_%|\n",
            "+----------------+-------------------+----------+-------------+--------------------+--------------+----------+-------------+-----------------+\n",
            "|    interviewmag|3245331176155211241|    666865|         2653|@kyliejenner @int...|       1266574|1701093645|   2023-11-27|            52.86|\n",
            "|grebenisancarmen|3247012161022596826|      1666|           14|We call it “bârfe...|        691934|1701294183|   2023-11-29|            21.52|\n",
            "|grebenisancarmen|3246621589263013232|      1414|           27|How to style a le...|        691934|1701247491|   2023-11-29|            21.52|\n",
            "|grebenisancarmen|3245884952484566080|      1931|           29|Teddy sets are my...|        691934|1701159677|   2023-11-28|            21.52|\n",
            "|grebenisancarmen|3245155721815515538|       818|           12|Styling ZARA MEN ...|        691934|1701072747|   2023-11-27|            21.52|\n",
            "|     kyliejenner|3245618717496693656|   1194682|         5049|    @interviewmag 🤍|     398959125|1701127923|   2023-11-27|            14.94|\n",
            "|     kyliejenner|3245451371023358346|   3341361|         6989|  @interviewmag 🦢🌹|     398959125|1701107973|   2023-11-27|            14.94|\n",
            "|     kyliejenner|3245435655125507326|   2616294|         5681|yummy @interviewm...|     398959125|1701106100|   2023-11-27|            14.94|\n",
            "|      lidiabuble|3245194455088762708|      2398|           37|Thank you @ellero...|       1431173|1701077347|   2023-11-27|             9.96|\n",
            "+----------------+-------------------+----------+-------------+--------------------+--------------+----------+-------------+-----------------+\n",
            "\n"
          ]
        }
      ]
    },
    {
      "cell_type": "markdown",
      "source": [
        "Sort the influencers in descending order based on the number of unique mentions they have in their post descriptions\n",
        "For example, if influencer A has 3 unique mentions and influencer B has 5 unique mentions in their posts descriptions then the order should be:\n",
        "  01. B - 5\n",
        "  02. A - 3"
      ],
      "metadata": {
        "id": "GnRz8tjnh-Cq"
      }
    },
    {
      "cell_type": "code",
      "source": [
        "df_exploded = df_content.withColumn(\"explode_mentions\", f.explode(f.col(\"mentions\")))\n",
        "df_exploded.show()"
      ],
      "metadata": {
        "id": "_FrAyf51h7l2",
        "outputId": "53241372-cb35-406f-89c6-7c30c36a7784",
        "colab": {
          "base_uri": "https://localhost:8080/"
        }
      },
      "execution_count": null,
      "outputs": [
        {
          "output_type": "stream",
          "name": "stdout",
          "text": [
            "+-------------------+----------+-------------+--------------------+----------------+--------------+----------+-------------+--------+--------------------+-----------------+\n",
            "|            post_id|like_count|comment_count|    post_description|        username|follower_count| post_date|post_date_iso|hashtags|            mentions| explode_mentions|\n",
            "+-------------------+----------+-------------+--------------------+----------------+--------------+----------+-------------+--------+--------------------+-----------------+\n",
            "|3247472340898021032|      1900|           14|I see, I buy it.?...|grebenisancarmen|        691934|1701348910|   2023-11-30|    NULL|[@hm, @piecesoffi...|              @hm|\n",
            "|3247472340898021032|      1900|           14|I see, I buy it.?...|grebenisancarmen|        691934|1701348910|   2023-11-30|    NULL|[@hm, @piecesoffi...|  @piecesofficial|\n",
            "|3247472340898021032|      1900|           14|I see, I buy it.?...|grebenisancarmen|        691934|1701348910|   2023-11-30|    NULL|[@hm, @piecesoffi...|              @hm|\n",
            "|3247472340898021032|      1900|           14|I see, I buy it.?...|grebenisancarmen|        691934|1701348910|   2023-11-30|    NULL|[@hm, @piecesoffi...|            @zara|\n",
            "|3247012161022596826|      1666|           14|We call it “bârfe...|grebenisancarmen|        691934|1701294183|   2023-11-29|    NULL|     [@nordik_cabin]|    @nordik_cabin|\n",
            "|3246621589263013232|      1414|           27|How to style a le...|grebenisancarmen|        691934|1701247491|   2023-11-29|    NULL|[@cosstores, @oys...|       @cosstores|\n",
            "|3246621589263013232|      1414|           27|How to style a le...|grebenisancarmen|        691934|1701247491|   2023-11-29|    NULL|[@cosstores, @oys...|           @oysho|\n",
            "|3246621589263013232|      1414|           27|How to style a le...|grebenisancarmen|        691934|1701247491|   2023-11-29|    NULL|[@cosstores, @oys...|@legerbylenagerke|\n",
            "|3246621589263013232|      1414|           27|How to style a le...|grebenisancarmen|        691934|1701247491|   2023-11-29|    NULL|[@cosstores, @oys...|      @goosecraft|\n",
            "|3246621589263013232|      1414|           27|How to style a le...|grebenisancarmen|        691934|1701247491|   2023-11-29|    NULL|[@cosstores, @oys...|           @mango|\n",
            "|3246621589263013232|      1414|           27|How to style a le...|grebenisancarmen|        691934|1701247491|   2023-11-29|    NULL|[@cosstores, @oys...|           @infsd|\n",
            "|3246621589263013232|      1414|           27|How to style a le...|grebenisancarmen|        691934|1701247491|   2023-11-29|    NULL|[@cosstores, @oys...|            @dior|\n",
            "|3246621589263013232|      1414|           27|How to style a le...|grebenisancarmen|        691934|1701247491|   2023-11-29|    NULL|[@cosstores, @oys...|          @chanel|\n",
            "|3245884952484566080|      1931|           29|Teddy sets are my...|grebenisancarmen|        691934|1701159677|   2023-11-28|    NULL|      [@infsd, @ugg]|           @infsd|\n",
            "|3245884952484566080|      1931|           29|Teddy sets are my...|grebenisancarmen|        691934|1701159677|   2023-11-28|    NULL|      [@infsd, @ugg]|             @ugg|\n",
            "|3242582939801950377|     24213|        13879|Travel Giveaway⛰️...|grebenisancarmen|        691934|1700766030|   2023-11-23|    NULL|[@nordik_cabin, @...|    @nordik_cabin|\n",
            "|3242582939801950377|     24213|        13879|Travel Giveaway⛰️...|grebenisancarmen|        691934|1700766030|   2023-11-23|    NULL|[@nordik_cabin, @...|@grebenisancarmen|\n",
            "|3242582939801950377|     24213|        13879|Travel Giveaway⛰️...|grebenisancarmen|        691934|1700766030|   2023-11-23|    NULL|[@nordik_cabin, @...|    @nordik_cabin|\n",
            "|3242569846896023754|     15822|           38|Ma topesc aici.🥹...|grebenisancarmen|        691934|1700764469|   2023-11-23|    NULL|     [@nordik_cabin]|    @nordik_cabin|\n",
            "|3242465805281202992|      1976|           14|A place that feel...|grebenisancarmen|        691934|1700752137|   2023-11-23|    NULL|     [@nordik_cabin]|    @nordik_cabin|\n",
            "+-------------------+----------+-------------+--------------------+----------------+--------------+----------+-------------+--------+--------------------+-----------------+\n",
            "only showing top 20 rows\n",
            "\n"
          ]
        }
      ]
    },
    {
      "cell_type": "code",
      "source": [
        "df_exploded.dropDuplicates(['username', 'explode_mentions']).groupBy(\"username\").count().orderBy(f.col(\"count\").desc()).show()"
      ],
      "metadata": {
        "id": "dPjvx3pdi_FT",
        "outputId": "e37730d2-192c-45e3-8987-48f564936963",
        "colab": {
          "base_uri": "https://localhost:8080/"
        }
      },
      "execution_count": null,
      "outputs": [
        {
          "output_type": "stream",
          "name": "stdout",
          "text": [
            "+----------------+-----+\n",
            "|        username|count|\n",
            "+----------------+-----+\n",
            "|grebenisancarmen|   25|\n",
            "|    interviewmag|   12|\n",
            "|     selenagomez|   12|\n",
            "|     kyliejenner|    7|\n",
            "|      lidiabuble|    6|\n",
            "|    arianagrande|    6|\n",
            "+----------------+-----+\n",
            "\n"
          ]
        }
      ]
    }
  ]
}
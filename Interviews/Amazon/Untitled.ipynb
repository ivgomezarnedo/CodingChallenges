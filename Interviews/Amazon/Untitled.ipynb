{
 "cells": [
  {
   "cell_type": "code",
   "execution_count": null,
   "metadata": {},
   "outputs": [],
   "source": [
    "#1-Given a list of numbers [1,2,3,4,5,6,7,8,9], print all the pairs for which the summation of index positions is equal to 10\n"
   ]
  },
  {
   "cell_type": "code",
   "execution_count": 7,
   "metadata": {},
   "outputs": [
    {
     "name": "stdout",
     "output_type": "stream",
     "text": [
      "Suma de 2 + 8 es igual a 10\n",
      "Suma de 3 + 7 es igual a 10\n",
      "Suma de 4 + 6 es igual a 10\n"
     ]
    }
   ],
   "source": [
    "array=[1,2,3,4,5,6,7,8,9]\n",
    "for i in range(0, len(array)-1):\n",
    "    for j in range(i+1, len(array)):\n",
    "        if(i+j==10):\n",
    "            print(\"Suma de \"+str(i)+\" + \"+str(j)+\" es igual a 10\")"
   ]
  },
  {
   "cell_type": "code",
   "execution_count": 8,
   "metadata": {},
   "outputs": [
    {
     "name": "stdout",
     "output_type": "stream",
     "text": [
      "Suma de 1 + 9 es igual a 10\n",
      "Suma de 2 + 8 es igual a 10\n",
      "Suma de 3 + 7 es igual a 10\n",
      "Suma de 4 + 6 es igual a 10\n"
     ]
    }
   ],
   "source": [
    "array=[1,2,3,4,5,6,7,8,9]\n",
    "for i in range(0, len(array)-1):\n",
    "    for j in range(i+1, len(array)):\n",
    "        if(array[i]+array[j]==10):\n",
    "            print(\"Suma de \"+str(array[i])+\" + \"+str(array[j])+\" es igual a 10\")"
   ]
  },
  {
   "cell_type": "code",
   "execution_count": null,
   "metadata": {},
   "outputs": [],
   "source": [
    "#2-Given a list of words, can you find out the frequency of each word?\n"
   ]
  },
  {
   "cell_type": "code",
   "execution_count": null,
   "metadata": {},
   "outputs": [],
   "source": [
    "#CREAR A DICTIONARY."
   ]
  }
 ],
 "metadata": {
  "kernelspec": {
   "display_name": "Python 3",
   "language": "python",
   "name": "python3"
  },
  "language_info": {
   "codemirror_mode": {
    "name": "ipython",
    "version": 3
   },
   "file_extension": ".py",
   "mimetype": "text/x-python",
   "name": "python",
   "nbconvert_exporter": "python",
   "pygments_lexer": "ipython3",
   "version": "3.8.5"
  }
 },
 "nbformat": 4,
 "nbformat_minor": 4
}

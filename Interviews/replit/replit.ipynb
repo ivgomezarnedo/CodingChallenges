{
 "cells": [
  {
   "cell_type": "code",
   "execution_count": null,
   "id": "bde22e9e",
   "metadata": {},
   "outputs": [],
   "source": [
    "function isValid(stale, latest, otjson) {\n",
    "  // this is the part you will write!\n",
    "}\n",
    "\n",
    "isValid(\n",
    "  'Repl.it uses operational transformations to keep everyone in a multiplayer repl in sync.',\n",
    "  'Repl.it uses operational transformations.',\n",
    "  '[{\"op\": \"skip\", \"count\": 40}, {\"op\": \"delete\", \"count\": 47}]'\n",
    "); // true\n",
    "\n",
    "isValid(\n",
    "  'Repl.it uses operational transformations to keep everyone in a multiplayer repl in sync.',\n",
    "  'Repl.it uses operational transformations.',\n",
    "  '[{\"op\": \"skip\", \"count\": 45}, {\"op\": \"delete\", \"count\": 47}]'\n",
    "); // false, delete past end\n",
    "\n",
    "isValid(\n",
    "  'Repl.it uses operational transformations to keep everyone in a multiplayer repl in sync.',\n",
    "  'Repl.it uses operational transformations.',\n",
    "  '[{\"op\": \"skip\", \"count\": 40}, {\"op\": \"delete\", \"count\": 47}, {\"op\": \"skip\", \"count\": 2}]'\n",
    "); // false, skip past end\n",
    "\n",
    "isValid(\n",
    "  'Repl.it uses operational transformations to keep everyone in a multiplayer repl in sync.',\n",
    "  'We use operational transformations to keep everyone in a multiplayer repl in sync.',\n",
    "  '[{\"op\": \"delete\", \"count\": 7}, {\"op\": \"insert\", \"chars\": \"We\"}, {\"op\": \"skip\", \"count\": 4}, {\"op\": \"delete\", \"count\": 1}]'\n",
    "); // true\n",
    "\n",
    "isValid(\n",
    "  'Repl.it uses operational transformations to keep everyone in a multiplayer repl in sync.',\n",
    "  'Repl.it uses operational transformations to keep everyone in a multiplayer repl in sync.',\n",
    "  '[]'\n",
    "); // true"
   ]
  },
  {
   "cell_type": "code",
   "execution_count": 16,
   "id": "4ff0754c",
   "metadata": {},
   "outputs": [
    {
     "name": "stdout",
     "output_type": "stream",
     "text": [
      "We use operational transformations to keep everyone in a multiplayer repl in sync.\n"
     ]
    }
   ],
   "source": [
    "import json\n",
    "opers = json.loads('[{\"op\": \"delete\", \"count\": 7}, {\"op\": \"insert\", \"chars\": \"We\"}, {\"op\": \"skip\", \"count\": 4}, {\"op\": \"delete\", \"count\": 1}]')\n",
    "input_text = \"Repl.it uses operational transformations to keep everyone in a multiplayer repl in sync.\"\n",
    "cursor = 0\n",
    "for entry in opers:\n",
    "    if entry['op'] == 'skip':\n",
    "        cursor = cursor + entry['count']\n",
    "    elif entry['op'] == 'delete':\n",
    "        input_text=input_text[:cursor]+input_text[cursor+entry['count']:]\n",
    "    elif entry['op'] == 'insert':\n",
    "        input_text=input_text[:cursor]+entry['chars']+input_text[cursor:]\n",
    "        cursor = cursor + len(entry['chars'])\n",
    "print(input_text)\n",
    "        \n",
    "        "
   ]
  },
  {
   "cell_type": "code",
   "execution_count": 59,
   "id": "719a9d66",
   "metadata": {},
   "outputs": [],
   "source": [
    "import json\n",
    "def isValid(input_text, output_text, opers_text):\n",
    "    cursor = 0\n",
    "    opers = json.loads(opers_text)\n",
    "    for entry in opers:\n",
    "        if entry['op'] == 'skip':\n",
    "            cursor = cursor + entry['count']\n",
    "            if cursor > len(input_text)-1: #You can't skip past the end of a string\n",
    "                return False\n",
    "        elif entry['op'] == 'delete':\n",
    "            if (cursor+entry['count']) > len(input_text)-1: #You can't delete past the end of a string\n",
    "                return False\n",
    "            input_text=input_text[:cursor]+input_text[cursor+entry['count']:]\n",
    "        elif entry['op'] == 'insert':\n",
    "            input_text=input_text[:cursor]+entry['chars']+input_text[cursor:]\n",
    "            cursor = cursor + len(entry['chars'])\n",
    "    return input_text==output_text"
   ]
  },
  {
   "cell_type": "code",
   "execution_count": 43,
   "id": "f4f4f5de",
   "metadata": {},
   "outputs": [
    {
     "data": {
      "text/plain": [
       "' to keep everyone in a multiplayer repl in sync.'"
      ]
     },
     "execution_count": 43,
     "metadata": {},
     "output_type": "execute_result"
    }
   ],
   "source": [
    "input_text =   'Repl.it uses operational transformations to keep everyone in a multiplayer repl in sync.'\n",
    "input_text[40:]"
   ]
  },
  {
   "cell_type": "code",
   "execution_count": 65,
   "id": "64d89f19",
   "metadata": {},
   "outputs": [
    {
     "name": "stdout",
     "output_type": "stream",
     "text": [
      "True\n"
     ]
    }
   ],
   "source": [
    "print(isValid(\n",
    "  'Repl.it uses operational transformations to keep everyone in a multiplayer repl in sync.',\n",
    "  'Repl.it uses operational transformations to keep everyone in a multiplayer repl in sync.',\n",
    "  '[]'\n",
    "))"
   ]
  },
  {
   "cell_type": "code",
   "execution_count": 11,
   "id": "7fb057dc",
   "metadata": {},
   "outputs": [
    {
     "name": "stdout",
     "output_type": "stream",
     "text": [
      " to keep everyone in a multiplayer repl in sync.\n",
      "Repl.it uses operational transformations\n"
     ]
    }
   ],
   "source": [
    "input_text = \"Repl.it uses operational transformations to keep everyone in a multiplayer repl in sync.\"\n",
    "print(input_text[40:])\n",
    "print(input_text[:40])"
   ]
  },
  {
   "cell_type": "code",
   "execution_count": 8,
   "id": "8ee249aa",
   "metadata": {},
   "outputs": [
    {
     "name": "stdout",
     "output_type": "stream",
     "text": [
      "88\n"
     ]
    }
   ],
   "source": [
    "print(len(input_text))"
   ]
  }
 ],
 "metadata": {
  "kernelspec": {
   "display_name": "Python 3",
   "language": "python",
   "name": "python3"
  },
  "language_info": {
   "codemirror_mode": {
    "name": "ipython",
    "version": 3
   },
   "file_extension": ".py",
   "mimetype": "text/x-python",
   "name": "python",
   "nbconvert_exporter": "python",
   "pygments_lexer": "ipython3",
   "version": "3.8.8"
  }
 },
 "nbformat": 4,
 "nbformat_minor": 5
}

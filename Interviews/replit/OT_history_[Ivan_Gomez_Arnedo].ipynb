{
  "nbformat": 4,
  "nbformat_minor": 0,
  "metadata": {
    "colab": {
      "name": "OT history [Ivan Gomez Arnedo].ipynb",
      "provenance": [],
      "collapsed_sections": []
    },
    "kernelspec": {
      "name": "python3",
      "display_name": "Python 3"
    },
    "language_info": {
      "name": "python"
    }
  },
  "cells": [
    {
      "cell_type": "markdown",
      "source": [
        "##### **Instructions**"
      ],
      "metadata": {
        "id": "FEyIkNg-CI-Y"
      }
    },
    {
      "cell_type": "markdown",
      "source": [
        "\n",
        "\n",
        "In this exercise, we'll work with some Operation Transformation (OT) data generated within a repl. You should be familiar with OTs from the [OT Catchup](https://otcatchup.util.repl.co/) exercise.\n",
        "\n",
        "You'll have **4 hours** to work on this assignment. You'll be able to reach us through Slack, and we **highly encourage you to ask questions** at any time, especially if you get stuck. Treat us as your teammates for the day!\n",
        "\n",
        "Keep in mind that we value straightforward, working code over clever, not-quite-working code, even if there are more elaborate approaches out there. We're much more interested in your process and how you approach the problem. \n"
      ],
      "metadata": {
        "id": "E1I0zEam8-4K"
      }
    },
    {
      "cell_type": "markdown",
      "source": [
        "# Download file containing OT history "
      ],
      "metadata": {
        "id": "8ytlZ08fQMpX"
      }
    },
    {
      "cell_type": "markdown",
      "source": [
        "Run the following to download the data that you'll be using for this project. The file will be saved locally in `/content/replit/ot-hist.txt` and you can preview it using the `head` command in bash."
      ],
      "metadata": {
        "id": "Gho7gTNF64d8"
      }
    },
    {
      "cell_type": "code",
      "source": [
        "! mkdir -p /content/replit && gdown -O /content/replit/ot-hist.txt \"https://drive.google.com/uc?id=1p_YCXyxF9IXTRcfNIM_rON85d6VxcduW\""
      ],
      "metadata": {
        "id": "WHhnDM5dN_f4",
        "colab": {
          "base_uri": "https://localhost:8080/"
        },
        "outputId": "ee69f274-6ee5-424b-82a4-7cb8e254dee8"
      },
      "execution_count": 1,
      "outputs": [
        {
          "output_type": "stream",
          "name": "stdout",
          "text": [
            "Downloading...\n",
            "From: https://drive.google.com/uc?id=1p_YCXyxF9IXTRcfNIM_rON85d6VxcduW\n",
            "To: /content/replit/ot-hist.txt\n",
            "\r  0% 0.00/52.0k [00:00<?, ?B/s]\r100% 52.0k/52.0k [00:00<00:00, 57.7MB/s]\n"
          ]
        }
      ]
    },
    {
      "cell_type": "code",
      "source": [
        "! head /content/replit/ot-hist.txt"
      ],
      "metadata": {
        "id": "7iKhX9EcnYW8",
        "colab": {
          "base_uri": "https://localhost:8080/"
        },
        "outputId": "a42cd523-4e86-4c75-a2e5-6a8d80915f5a"
      },
      "execution_count": 2,
      "outputs": [
        {
          "output_type": "stream",
          "name": "stdout",
          "text": [
            "{\"spookyVersion\":1,\"ops\":[{\"Op\":{\"Insert\":\"f\"}}],\"crc32\":1993550816,\"committed\":{\"seconds\":1633731010,\"nanos\":601741473}}\n",
            "{\"spookyVersion\":2,\"ops\":[{\"Op\":{\"Skip\":1}},{\"Op\":{\"Insert\":\"rom\"}}],\"crc32\":3105530224,\"committed\":{\"seconds\":1633731010,\"nanos\":733718180}}\n",
            "{\"spookyVersion\":3,\"ops\":[{\"Op\":{\"Skip\":4}},{\"Op\":{\"Insert\":\" \"}}],\"crc32\":3117458648,\"committed\":{\"seconds\":1633731010,\"nanos\":861928438}}\n",
            "{\"spookyVersion\":4,\"ops\":[{\"Op\":{\"Skip\":5}},{\"Op\":{\"Insert\":\"c\"}}],\"crc32\":2382910765,\"committed\":{\"seconds\":1633731011,\"nanos\":304150079}}\n",
            "{\"spookyVersion\":5,\"ops\":[{\"Op\":{\"Skip\":6}},{\"Op\":{\"Insert\":\"o\"}}],\"crc32\":1247725412,\"committed\":{\"seconds\":1633731011,\"nanos\":735776039}}\n",
            "{\"spookyVersion\":6,\"ops\":[{\"Op\":{\"Skip\":7}},{\"Op\":{\"Insert\":\"l\"}}],\"crc32\":3700636024,\"committed\":{\"seconds\":1633731011,\"nanos\":953209609}}\n",
            "{\"spookyVersion\":7,\"ops\":[{\"Op\":{\"Skip\":8}},{\"Op\":{\"Insert\":\"l\"}}],\"crc32\":3355748553,\"committed\":{\"seconds\":1633731012,\"nanos\":133994353}}\n",
            "{\"spookyVersion\":8,\"ops\":[{\"Op\":{\"Skip\":9}},{\"Op\":{\"Insert\":\"e\"}}],\"crc32\":229246182,\"committed\":{\"seconds\":1633731012,\"nanos\":257857366}}\n",
            "{\"spookyVersion\":9,\"ops\":[{\"Op\":{\"Skip\":10}},{\"Op\":{\"Insert\":\"ct\"}}],\"crc32\":1462239847,\"committed\":{\"seconds\":1633731012,\"nanos\":423959001}}\n",
            "{\"spookyVersion\":10,\"ops\":[{\"Op\":{\"Skip\":12}},{\"Op\":{\"Insert\":\"i\"}}],\"crc32\":904784520,\"committed\":{\"seconds\":1633731012,\"nanos\":568133628}}\n"
          ]
        }
      ]
    },
    {
      "cell_type": "markdown",
      "source": [
        "##### **Frequently Asked Questions**"
      ],
      "metadata": {
        "id": "pyJylgpFqV2o"
      }
    },
    {
      "cell_type": "markdown",
      "source": [
        "**What is `crc32`?**\n",
        "\n",
        "[CRC32](https://en.wikipedia.org/wiki/Cyclic_redundancy_check) is a super quick and dirty opaque value that acts as a consistency check on OT documents. \n",
        "\n",
        "They have the property that if two documents have the same crc32, it is *likely* (not certain) that they have the same contents. On the other hand, if they have a *different* crc32, they **definitely** have different contents. Since they are opaque values, they can only be tested for equality / inequality. No other operations are valid to perform on them (less than, more than, add, subtract, divide, etc)."
      ],
      "metadata": {
        "id": "FEVlqf5Hqd-J"
      }
    },
    {
      "cell_type": "markdown",
      "source": [
        "# Data wrangling"
      ],
      "metadata": {
        "id": "wLcO1oo2QWZz"
      }
    },
    {
      "cell_type": "markdown",
      "source": [
        "#### **Import the file `ot-hist.txt` into a dataframe**\n"
      ],
      "metadata": {
        "id": "22w1lEgC5c9g"
      }
    },
    {
      "cell_type": "code",
      "source": [
        "import pandas as pd"
      ],
      "metadata": {
        "id": "HIAJ0MA-5miS"
      },
      "execution_count": 94,
      "outputs": []
    },
    {
      "cell_type": "code",
      "source": [
        "pd.set_option('display.max_columns', None)\n",
        "ot_hist_df = pd.read_json('/content/replit/ot-hist.txt', lines=True) \n",
        "ot_hist_df"
      ],
      "metadata": {
        "id": "rAKSqKYy6C7_",
        "colab": {
          "base_uri": "https://localhost:8080/",
          "height": 424
        },
        "outputId": "ba6a40a9-7bc8-4a5d-abf6-4858866c640b"
      },
      "execution_count": 95,
      "outputs": [
        {
          "output_type": "execute_result",
          "data": {
            "text/plain": [
              "     spookyVersion                                                ops  \\\n",
              "0                1                          [{'Op': {'Insert': 'f'}}]   \n",
              "1                2   [{'Op': {'Skip': 1}}, {'Op': {'Insert': 'rom'}}]   \n",
              "2                3     [{'Op': {'Skip': 4}}, {'Op': {'Insert': ' '}}]   \n",
              "3                4     [{'Op': {'Skip': 5}}, {'Op': {'Insert': 'c'}}]   \n",
              "4                5     [{'Op': {'Skip': 6}}, {'Op': {'Insert': 'o'}}]   \n",
              "..             ...                                                ...   \n",
              "356            357  [{'Op': {'Skip': 237}}, {'Op': {'Insert': '()'}}]   \n",
              "357            358   [{'Op': {'Skip': 238}}, {'Op': {'Insert': 'g'}}]   \n",
              "358            359   [{'Op': {'Skip': 239}}, {'Op': {'Insert': 'o'}}]   \n",
              "359            360   [{'Op': {'Skip': 240}}, {'Op': {'Insert': 't'}}]   \n",
              "360            361   [{'Op': {'Skip': 242}}, {'Op': {'Insert': '\n",
              "'}}]   \n",
              "\n",
              "          crc32                                    committed  \n",
              "0    1993550816  {'seconds': 1633731010, 'nanos': 601741473}  \n",
              "1    3105530224  {'seconds': 1633731010, 'nanos': 733718180}  \n",
              "2    3117458648  {'seconds': 1633731010, 'nanos': 861928438}  \n",
              "3    2382910765  {'seconds': 1633731011, 'nanos': 304150079}  \n",
              "4    1247725412  {'seconds': 1633731011, 'nanos': 735776039}  \n",
              "..          ...                                          ...  \n",
              "356  2275078666  {'seconds': 1634269084, 'nanos': 692628151}  \n",
              "357   504915590  {'seconds': 1634269097, 'nanos': 602492323}  \n",
              "358   844538129  {'seconds': 1634269097, 'nanos': 784863199}  \n",
              "359  4112982699  {'seconds': 1634269097, 'nanos': 867816637}  \n",
              "360  1931893713  {'seconds': 1638568185, 'nanos': 373755184}  \n",
              "\n",
              "[361 rows x 4 columns]"
            ],
            "text/html": [
              "\n",
              "  <div id=\"df-4c67cf1c-0012-4298-a841-22e1b3d4b76e\">\n",
              "    <div class=\"colab-df-container\">\n",
              "      <div>\n",
              "<style scoped>\n",
              "    .dataframe tbody tr th:only-of-type {\n",
              "        vertical-align: middle;\n",
              "    }\n",
              "\n",
              "    .dataframe tbody tr th {\n",
              "        vertical-align: top;\n",
              "    }\n",
              "\n",
              "    .dataframe thead th {\n",
              "        text-align: right;\n",
              "    }\n",
              "</style>\n",
              "<table border=\"1\" class=\"dataframe\">\n",
              "  <thead>\n",
              "    <tr style=\"text-align: right;\">\n",
              "      <th></th>\n",
              "      <th>spookyVersion</th>\n",
              "      <th>ops</th>\n",
              "      <th>crc32</th>\n",
              "      <th>committed</th>\n",
              "    </tr>\n",
              "  </thead>\n",
              "  <tbody>\n",
              "    <tr>\n",
              "      <th>0</th>\n",
              "      <td>1</td>\n",
              "      <td>[{'Op': {'Insert': 'f'}}]</td>\n",
              "      <td>1993550816</td>\n",
              "      <td>{'seconds': 1633731010, 'nanos': 601741473}</td>\n",
              "    </tr>\n",
              "    <tr>\n",
              "      <th>1</th>\n",
              "      <td>2</td>\n",
              "      <td>[{'Op': {'Skip': 1}}, {'Op': {'Insert': 'rom'}}]</td>\n",
              "      <td>3105530224</td>\n",
              "      <td>{'seconds': 1633731010, 'nanos': 733718180}</td>\n",
              "    </tr>\n",
              "    <tr>\n",
              "      <th>2</th>\n",
              "      <td>3</td>\n",
              "      <td>[{'Op': {'Skip': 4}}, {'Op': {'Insert': ' '}}]</td>\n",
              "      <td>3117458648</td>\n",
              "      <td>{'seconds': 1633731010, 'nanos': 861928438}</td>\n",
              "    </tr>\n",
              "    <tr>\n",
              "      <th>3</th>\n",
              "      <td>4</td>\n",
              "      <td>[{'Op': {'Skip': 5}}, {'Op': {'Insert': 'c'}}]</td>\n",
              "      <td>2382910765</td>\n",
              "      <td>{'seconds': 1633731011, 'nanos': 304150079}</td>\n",
              "    </tr>\n",
              "    <tr>\n",
              "      <th>4</th>\n",
              "      <td>5</td>\n",
              "      <td>[{'Op': {'Skip': 6}}, {'Op': {'Insert': 'o'}}]</td>\n",
              "      <td>1247725412</td>\n",
              "      <td>{'seconds': 1633731011, 'nanos': 735776039}</td>\n",
              "    </tr>\n",
              "    <tr>\n",
              "      <th>...</th>\n",
              "      <td>...</td>\n",
              "      <td>...</td>\n",
              "      <td>...</td>\n",
              "      <td>...</td>\n",
              "    </tr>\n",
              "    <tr>\n",
              "      <th>356</th>\n",
              "      <td>357</td>\n",
              "      <td>[{'Op': {'Skip': 237}}, {'Op': {'Insert': '()'}}]</td>\n",
              "      <td>2275078666</td>\n",
              "      <td>{'seconds': 1634269084, 'nanos': 692628151}</td>\n",
              "    </tr>\n",
              "    <tr>\n",
              "      <th>357</th>\n",
              "      <td>358</td>\n",
              "      <td>[{'Op': {'Skip': 238}}, {'Op': {'Insert': 'g'}}]</td>\n",
              "      <td>504915590</td>\n",
              "      <td>{'seconds': 1634269097, 'nanos': 602492323}</td>\n",
              "    </tr>\n",
              "    <tr>\n",
              "      <th>358</th>\n",
              "      <td>359</td>\n",
              "      <td>[{'Op': {'Skip': 239}}, {'Op': {'Insert': 'o'}}]</td>\n",
              "      <td>844538129</td>\n",
              "      <td>{'seconds': 1634269097, 'nanos': 784863199}</td>\n",
              "    </tr>\n",
              "    <tr>\n",
              "      <th>359</th>\n",
              "      <td>360</td>\n",
              "      <td>[{'Op': {'Skip': 240}}, {'Op': {'Insert': 't'}}]</td>\n",
              "      <td>4112982699</td>\n",
              "      <td>{'seconds': 1634269097, 'nanos': 867816637}</td>\n",
              "    </tr>\n",
              "    <tr>\n",
              "      <th>360</th>\n",
              "      <td>361</td>\n",
              "      <td>[{'Op': {'Skip': 242}}, {'Op': {'Insert': '\n",
              "'}}]</td>\n",
              "      <td>1931893713</td>\n",
              "      <td>{'seconds': 1638568185, 'nanos': 373755184}</td>\n",
              "    </tr>\n",
              "  </tbody>\n",
              "</table>\n",
              "<p>361 rows × 4 columns</p>\n",
              "</div>\n",
              "      <button class=\"colab-df-convert\" onclick=\"convertToInteractive('df-4c67cf1c-0012-4298-a841-22e1b3d4b76e')\"\n",
              "              title=\"Convert this dataframe to an interactive table.\"\n",
              "              style=\"display:none;\">\n",
              "        \n",
              "  <svg xmlns=\"http://www.w3.org/2000/svg\" height=\"24px\"viewBox=\"0 0 24 24\"\n",
              "       width=\"24px\">\n",
              "    <path d=\"M0 0h24v24H0V0z\" fill=\"none\"/>\n",
              "    <path d=\"M18.56 5.44l.94 2.06.94-2.06 2.06-.94-2.06-.94-.94-2.06-.94 2.06-2.06.94zm-11 1L8.5 8.5l.94-2.06 2.06-.94-2.06-.94L8.5 2.5l-.94 2.06-2.06.94zm10 10l.94 2.06.94-2.06 2.06-.94-2.06-.94-.94-2.06-.94 2.06-2.06.94z\"/><path d=\"M17.41 7.96l-1.37-1.37c-.4-.4-.92-.59-1.43-.59-.52 0-1.04.2-1.43.59L10.3 9.45l-7.72 7.72c-.78.78-.78 2.05 0 2.83L4 21.41c.39.39.9.59 1.41.59.51 0 1.02-.2 1.41-.59l7.78-7.78 2.81-2.81c.8-.78.8-2.07 0-2.86zM5.41 20L4 18.59l7.72-7.72 1.47 1.35L5.41 20z\"/>\n",
              "  </svg>\n",
              "      </button>\n",
              "      \n",
              "  <style>\n",
              "    .colab-df-container {\n",
              "      display:flex;\n",
              "      flex-wrap:wrap;\n",
              "      gap: 12px;\n",
              "    }\n",
              "\n",
              "    .colab-df-convert {\n",
              "      background-color: #E8F0FE;\n",
              "      border: none;\n",
              "      border-radius: 50%;\n",
              "      cursor: pointer;\n",
              "      display: none;\n",
              "      fill: #1967D2;\n",
              "      height: 32px;\n",
              "      padding: 0 0 0 0;\n",
              "      width: 32px;\n",
              "    }\n",
              "\n",
              "    .colab-df-convert:hover {\n",
              "      background-color: #E2EBFA;\n",
              "      box-shadow: 0px 1px 2px rgba(60, 64, 67, 0.3), 0px 1px 3px 1px rgba(60, 64, 67, 0.15);\n",
              "      fill: #174EA6;\n",
              "    }\n",
              "\n",
              "    [theme=dark] .colab-df-convert {\n",
              "      background-color: #3B4455;\n",
              "      fill: #D2E3FC;\n",
              "    }\n",
              "\n",
              "    [theme=dark] .colab-df-convert:hover {\n",
              "      background-color: #434B5C;\n",
              "      box-shadow: 0px 1px 3px 1px rgba(0, 0, 0, 0.15);\n",
              "      filter: drop-shadow(0px 1px 2px rgba(0, 0, 0, 0.3));\n",
              "      fill: #FFFFFF;\n",
              "    }\n",
              "  </style>\n",
              "\n",
              "      <script>\n",
              "        const buttonEl =\n",
              "          document.querySelector('#df-4c67cf1c-0012-4298-a841-22e1b3d4b76e button.colab-df-convert');\n",
              "        buttonEl.style.display =\n",
              "          google.colab.kernel.accessAllowed ? 'block' : 'none';\n",
              "\n",
              "        async function convertToInteractive(key) {\n",
              "          const element = document.querySelector('#df-4c67cf1c-0012-4298-a841-22e1b3d4b76e');\n",
              "          const dataTable =\n",
              "            await google.colab.kernel.invokeFunction('convertToInteractive',\n",
              "                                                     [key], {});\n",
              "          if (!dataTable) return;\n",
              "\n",
              "          const docLinkHtml = 'Like what you see? Visit the ' +\n",
              "            '<a target=\"_blank\" href=https://colab.research.google.com/notebooks/data_table.ipynb>data table notebook</a>'\n",
              "            + ' to learn more about interactive tables.';\n",
              "          element.innerHTML = '';\n",
              "          dataTable['output_type'] = 'display_data';\n",
              "          await google.colab.output.renderOutput(dataTable, element);\n",
              "          const docLink = document.createElement('div');\n",
              "          docLink.innerHTML = docLinkHtml;\n",
              "          element.appendChild(docLink);\n",
              "        }\n",
              "      </script>\n",
              "    </div>\n",
              "  </div>\n",
              "  "
            ]
          },
          "metadata": {},
          "execution_count": 95
        }
      ]
    },
    {
      "cell_type": "markdown",
      "source": [
        "#### **For each row in the dataframe, construct the following as separate columns**\n",
        "\n",
        "* The total number of ops\n",
        "* The number of ops by type (Delete, Insert, or Skip)"
      ],
      "metadata": {
        "id": "QYBKLhDq5ddF"
      }
    },
    {
      "cell_type": "code",
      "source": [
        "# Total number of Ops\n",
        "ot_hist_df['total_ops'] = ot_hist_df['ops'].apply(len)\n",
        "print(ot_hist_df.head())"
      ],
      "metadata": {
        "id": "AI1cWV1q6CeS",
        "colab": {
          "base_uri": "https://localhost:8080/"
        },
        "outputId": "2a516cc4-bce1-4472-cf9c-4c735a3f0518"
      },
      "execution_count": 96,
      "outputs": [
        {
          "output_type": "stream",
          "name": "stdout",
          "text": [
            "   spookyVersion                                               ops  \\\n",
            "0              1                         [{'Op': {'Insert': 'f'}}]   \n",
            "1              2  [{'Op': {'Skip': 1}}, {'Op': {'Insert': 'rom'}}]   \n",
            "2              3    [{'Op': {'Skip': 4}}, {'Op': {'Insert': ' '}}]   \n",
            "3              4    [{'Op': {'Skip': 5}}, {'Op': {'Insert': 'c'}}]   \n",
            "4              5    [{'Op': {'Skip': 6}}, {'Op': {'Insert': 'o'}}]   \n",
            "\n",
            "        crc32                                    committed  total_ops  \n",
            "0  1993550816  {'seconds': 1633731010, 'nanos': 601741473}          1  \n",
            "1  3105530224  {'seconds': 1633731010, 'nanos': 733718180}          2  \n",
            "2  3117458648  {'seconds': 1633731010, 'nanos': 861928438}          2  \n",
            "3  2382910765  {'seconds': 1633731011, 'nanos': 304150079}          2  \n",
            "4  1247725412  {'seconds': 1633731011, 'nanos': 735776039}          2  \n"
          ]
        }
      ]
    },
    {
      "cell_type": "code",
      "source": [
        "# Just in case there are more Ops in the future\n",
        "distinct_ops = set()\n",
        "for opers in ot_hist_df['ops'].values:\n",
        "    for op in opers:\n",
        "        distinct_ops.add(list(op['Op'].keys())[0])\n",
        "print(distinct_ops)"
      ],
      "metadata": {
        "colab": {
          "base_uri": "https://localhost:8080/"
        },
        "id": "m5HEgzAEDIzP",
        "outputId": "71e947ce-a7da-4c45-ae1a-3206ab70bdb8"
      },
      "execution_count": 97,
      "outputs": [
        {
          "output_type": "stream",
          "name": "stdout",
          "text": [
            "{'Skip', 'Insert', 'Delete'}\n"
          ]
        }
      ]
    },
    {
      "cell_type": "code",
      "source": [
        "# Total number of Ops per Opt Type\n",
        "\n",
        "def count_operations_by_type(line, op_type):\n",
        "        count = 0\n",
        "        for op in line:\n",
        "            if list(op['Op'].keys())[0] == op_type:\n",
        "                count += 1\n",
        "        return count\n",
        "\n",
        "for op_type in distinct_ops:\n",
        "  ot_hist_df[f'{op_type.lower()}_ops'] = ot_hist_df['ops'].apply(lambda x: count_operations_by_type(x, op_type))\n",
        "print(ot_hist_df.head())\n"
      ],
      "metadata": {
        "colab": {
          "base_uri": "https://localhost:8080/"
        },
        "id": "1E8aj7tnAaoX",
        "outputId": "465888c6-2799-4dc3-a962-be4135d58902"
      },
      "execution_count": 98,
      "outputs": [
        {
          "output_type": "stream",
          "name": "stdout",
          "text": [
            "   spookyVersion                                               ops  \\\n",
            "0              1                         [{'Op': {'Insert': 'f'}}]   \n",
            "1              2  [{'Op': {'Skip': 1}}, {'Op': {'Insert': 'rom'}}]   \n",
            "2              3    [{'Op': {'Skip': 4}}, {'Op': {'Insert': ' '}}]   \n",
            "3              4    [{'Op': {'Skip': 5}}, {'Op': {'Insert': 'c'}}]   \n",
            "4              5    [{'Op': {'Skip': 6}}, {'Op': {'Insert': 'o'}}]   \n",
            "\n",
            "        crc32                                    committed  total_ops  \\\n",
            "0  1993550816  {'seconds': 1633731010, 'nanos': 601741473}          1   \n",
            "1  3105530224  {'seconds': 1633731010, 'nanos': 733718180}          2   \n",
            "2  3117458648  {'seconds': 1633731010, 'nanos': 861928438}          2   \n",
            "3  2382910765  {'seconds': 1633731011, 'nanos': 304150079}          2   \n",
            "4  1247725412  {'seconds': 1633731011, 'nanos': 735776039}          2   \n",
            "\n",
            "   skip_ops  insert_ops  delete_ops  \n",
            "0         0           1           0  \n",
            "1         1           1           0  \n",
            "2         1           1           0  \n",
            "3         1           1           0  \n",
            "4         1           1           0  \n"
          ]
        }
      ]
    },
    {
      "cell_type": "markdown",
      "source": [
        "#### **Construct a time-series index for your dataframe**\n",
        "\n",
        "\n"
      ],
      "metadata": {
        "id": "k4yf9hP46H_I"
      }
    },
    {
      "cell_type": "code",
      "source": [
        "# My time-series is based on Nanos\n",
        "ot_hist_df['nanos'] = ot_hist_df['committed'].apply(lambda x: x['seconds']*1000000000 + x['nanos'])\n",
        "ot_hist_df['seconds'] = ot_hist_df['committed'].apply(lambda x: x['seconds'])\n",
        "\n",
        "print(ot_hist_df.head())\n"
      ],
      "metadata": {
        "id": "CTHpleGc6O3Q",
        "colab": {
          "base_uri": "https://localhost:8080/"
        },
        "outputId": "55bfe97b-ceb9-47c2-968a-5a56a945426f"
      },
      "execution_count": 99,
      "outputs": [
        {
          "output_type": "stream",
          "name": "stdout",
          "text": [
            "   spookyVersion                                               ops  \\\n",
            "0              1                         [{'Op': {'Insert': 'f'}}]   \n",
            "1              2  [{'Op': {'Skip': 1}}, {'Op': {'Insert': 'rom'}}]   \n",
            "2              3    [{'Op': {'Skip': 4}}, {'Op': {'Insert': ' '}}]   \n",
            "3              4    [{'Op': {'Skip': 5}}, {'Op': {'Insert': 'c'}}]   \n",
            "4              5    [{'Op': {'Skip': 6}}, {'Op': {'Insert': 'o'}}]   \n",
            "\n",
            "        crc32                                    committed  total_ops  \\\n",
            "0  1993550816  {'seconds': 1633731010, 'nanos': 601741473}          1   \n",
            "1  3105530224  {'seconds': 1633731010, 'nanos': 733718180}          2   \n",
            "2  3117458648  {'seconds': 1633731010, 'nanos': 861928438}          2   \n",
            "3  2382910765  {'seconds': 1633731011, 'nanos': 304150079}          2   \n",
            "4  1247725412  {'seconds': 1633731011, 'nanos': 735776039}          2   \n",
            "\n",
            "   skip_ops  insert_ops  delete_ops                nanos     seconds  \n",
            "0         0           1           0  1633731010601741473  1633731010  \n",
            "1         1           1           0  1633731010733718180  1633731010  \n",
            "2         1           1           0  1633731010861928438  1633731010  \n",
            "3         1           1           0  1633731011304150079  1633731011  \n",
            "4         1           1           0  1633731011735776039  1633731011  \n"
          ]
        }
      ]
    },
    {
      "cell_type": "markdown",
      "source": [
        "# Summary stats and visualization\n"
      ],
      "metadata": {
        "id": "Wrkg5uvN65jP"
      }
    },
    {
      "cell_type": "markdown",
      "source": [
        "\n",
        "#### **Calculate some basic summary statistics**\n",
        "\n",
        "* Number of ops per second/minute\n",
        "* Avg number of ops per crc\n",
        "* Frequency of op types \n",
        "* Anything else you find interesting\n",
        "\n"
      ],
      "metadata": {
        "id": "G7iuqB616-ol"
      }
    },
    {
      "cell_type": "code",
      "source": [
        "max_seconds = ot_hist_df['seconds'].max()\n",
        "min_seconds = ot_hist_df['seconds'].min()\n",
        "total_seconds = max_seconds - min_seconds\n",
        "total_minutes = total_seconds / 60\n",
        "print(f\"Total seconds elapsed {total_seconds}\")\n",
        "print(f\"Total minutes elapsed {total_minutes}\")\n",
        "total_ops = ot_hist_df['total_ops'].sum()\n",
        "print(f\"Total ops : {total_ops}\")\n",
        "print(f\"Ops per second: {total_ops/total_seconds}\")\n",
        "print(f\"Ops per minute: {total_ops/total_minutes}\")"
      ],
      "metadata": {
        "colab": {
          "base_uri": "https://localhost:8080/"
        },
        "id": "dzCXDoomIRA0",
        "outputId": "b2be81d8-fe18-4a99-bca7-dd3c5b01b1b9"
      },
      "execution_count": 100,
      "outputs": [
        {
          "output_type": "stream",
          "name": "stdout",
          "text": [
            "Total seconds elapsed 4837175\n",
            "Total minutes elapsed 80619.58333333333\n",
            "Total ops : 740\n",
            "Ops per second: 0.00015298185407805175\n",
            "Ops per minute: 0.009178911244683105\n"
          ]
        }
      ]
    },
    {
      "cell_type": "code",
      "source": [
        "average_ops_per_crc32 = ot_hist_df.groupby('crc32')['total_ops'].mean()\n",
        "print(f\"Average ops per CRC32: {average_ops_per_crc32}\")"
      ],
      "metadata": {
        "colab": {
          "base_uri": "https://localhost:8080/"
        },
        "id": "cBlCD33GIQUQ",
        "outputId": "7d111aef-0a63-4a89-e2bd-a3d274bbe2cc"
      },
      "execution_count": 102,
      "outputs": [
        {
          "output_type": "stream",
          "name": "stdout",
          "text": [
            "Average ops per CRC32: crc32\n",
            "4149887       2.0\n",
            "17724078      2.0\n",
            "22229109      2.0\n",
            "22819997      2.0\n",
            "31902292      2.0\n",
            "             ... \n",
            "4248948548    2.0\n",
            "4266123516    2.0\n",
            "4274111974    2.0\n",
            "4281033019    2.5\n",
            "4287781481    2.0\n",
            "Name: total_ops, Length: 317, dtype: float64\n"
          ]
        }
      ]
    },
    {
      "cell_type": "code",
      "source": [
        "for op_type in distinct_ops:\n",
        "  print(f\"Frequency of {op_type} per minute is {(ot_hist_df[f'{op_type.lower()}_ops'].sum())/total_minutes}\")\n"
      ],
      "metadata": {
        "id": "98DI9W317LeW",
        "colab": {
          "base_uri": "https://localhost:8080/"
        },
        "outputId": "adbd2c42-2685-47a5-c5ec-c5c2b68ab405"
      },
      "execution_count": 90,
      "outputs": [
        {
          "output_type": "stream",
          "name": "stdout",
          "text": [
            "Frequency of Skip per minute is 0.004477820215311623\n",
            "Frequency of Insert per minute is 0.0039444510483908485\n",
            "Frequency of Delete per minute is 0.0007566399809806344\n"
          ]
        }
      ]
    },
    {
      "cell_type": "code",
      "source": [
        ""
      ],
      "metadata": {
        "id": "u09CQbA27LUf"
      },
      "execution_count": null,
      "outputs": []
    },
    {
      "cell_type": "markdown",
      "source": [
        "#### **Create a time-series plot showing the number of ops over time by op type**\n",
        "* Use any visualization library that you like\n",
        "* The choice of frequency and window are up to you\n",
        "* Feel free to include more than one plot"
      ],
      "metadata": {
        "id": "anQD9Tum7HHF"
      }
    },
    {
      "cell_type": "code",
      "source": [
        "import matplotlib.pyplot as plt\n",
        "ot_hist_df.plot(x='nanos', y=['delete_ops', 'skip_ops', 'insert_ops'])\n",
        "plt.show()"
      ],
      "metadata": {
        "id": "mqM8fTmL7MDD",
        "colab": {
          "base_uri": "https://localhost:8080/",
          "height": 279
        },
        "outputId": "ec669709-30d2-47a5-80be-7d0c164f9cf5"
      },
      "execution_count": 91,
      "outputs": [
        {
          "output_type": "display_data",
          "data": {
            "text/plain": [
              "<Figure size 432x288 with 1 Axes>"
            ],
            "image/png": "[encoded data removed]"
          },
          "metadata": {
            "needs_background": "light"
          }
        }
      ]
    },
    {
      "cell_type": "code",
      "source": [
        ""
      ],
      "metadata": {
        "id": "lprckJb57L7A"
      },
      "execution_count": null,
      "outputs": []
    },
    {
      "cell_type": "markdown",
      "source": [
        "# Version control using OT history\n"
      ],
      "metadata": {
        "id": "2z0rgxnD7Zj6"
      }
    },
    {
      "cell_type": "markdown",
      "source": [
        "#### **Write a function that returns the document as of a specific point in time**\n",
        "* The function should take in a date/time and return the document contents as of that time\n",
        "* Feel free to use any of the code you wrote previously as part of the [OT-catchup](https://otcatchup.util.repl.co/) exercise\n",
        "\n"
      ],
      "metadata": {
        "id": "PDoSZS1R7ekf"
      }
    },
    {
      "cell_type": "code",
      "source": [
        "import pandas as pd\n",
        "\n",
        "def apply_bundle_operation(bundle_operation, document):\n",
        "    cursor = 0\n",
        "    for entry in bundle_operation:\n",
        "        operation = entry['Op']\n",
        "        op_type = list(operation.keys())[0]\n",
        "        if op_type == 'Skip':\n",
        "            cursor = cursor + operation[op_type]\n",
        "        elif op_type == 'Delete':\n",
        "            document = document[:cursor]+document[cursor+operation[op_type]:]\n",
        "        elif op_type == 'Insert':\n",
        "            document = document[:cursor]+operation[op_type]+document[cursor:]\n",
        "            cursor = cursor + len(operation[op_type])\n",
        "    return document\n",
        "\n",
        "def get_document_at_time(time_ns, df):\n",
        "    df = df[df['nanos'] <= time_ns].sort_values(by='nanos', ascending=True)\n",
        "    document = \"\"\n",
        "    for bundle_operation in df['ops'].values:\n",
        "        document = apply_bundle_operation(bundle_operation, document)\n",
        "    return document"
      ],
      "metadata": {
        "id": "KaX0HbdY7oif"
      },
      "execution_count": 92,
      "outputs": []
    },
    {
      "cell_type": "code",
      "source": [
        "# Example of execution using the max value (to get the full document)\n",
        "ot_hist_df = pd.read_json('/content/replit/ot-hist.txt', lines=True) \n",
        "ot_hist_df['nanos'] = ot_hist_df['committed'].apply(lambda x: x['seconds']*1000000000 + x['nanos'])\n",
        "max_nanos_ts = ot_hist_df['nanos'].max()\n",
        "print(get_document_at_time(int(max_nanos_ts), ot_hist_df))"
      ],
      "metadata": {
        "id": "dAP7zHtV7oYr",
        "colab": {
          "base_uri": "https://localhost:8080/"
        },
        "outputId": "e163cfb5-72b1-4060-d2c7-e154064af4cd"
      },
      "execution_count": 93,
      "outputs": [
        {
          "output_type": "stream",
          "name": "stdout",
          "text": [
            "from collections import defaultdict\n",
            "import json\n",
            "\n",
            "def tree(): return defaultdict(tree)\n",
            "got = tree()\n",
            "\n",
            "got['stark']['sigil'] = '🐺'\n",
            "got['lannister']['sigil'] = '🦁'\n",
            "got['targaryen']['sigil'] = '🐲'\n",
            "\n",
            "print(json.dumps(got, indent=4))\n",
            "\n",
            "json.dumps(got)\n",
            "\n"
          ]
        }
      ]
    },
    {
      "cell_type": "code",
      "source": [
        "print(get_document_at_time(int(1633731011304150079), ot_hist_df))"
      ],
      "metadata": {
        "colab": {
          "base_uri": "https://localhost:8080/"
        },
        "id": "nCjrqoZQ-54n",
        "outputId": "950148bc-c59e-41e0-8ae6-d91ed1cbb5ac"
      },
      "execution_count": 103,
      "outputs": [
        {
          "output_type": "stream",
          "name": "stdout",
          "text": [
            "from c\n"
          ]
        }
      ]
    },
    {
      "cell_type": "markdown",
      "source": [
        "#### **[EXTRA CREDIT] Build a more user-friendly method for choosing from a list of document versions**\n",
        "* Think of this as the menu of previous versions showed to you when editing a document (for example, in Google Docs) \n",
        "* The design and choice set presented to the user is up to you, but remember that fewer choices are often better for users\n",
        "* Explain how you came up with your design and briefly mention its limitations (we will discuss during our follow-up session)\n"
      ],
      "metadata": {
        "id": "sHvBVqBI7qMS"
      }
    },
    {
      "cell_type": "code",
      "source": [
        "\"\"\"\n",
        "I think that the best option is to use an Slider that will allow the user to select the version of the document that he wants.\n",
        "That slider will be based on nanoseconds. Having the minimun nanosecond at the left of the slider and the max nanosecond at the right of the slider.\n",
        "Something similar to: https://docs.streamlit.io/library/api-reference/widgets/st.slider\n",
        "\n",
        "But I didn't have enough time to implement it properly. I can show some examples in my local IDE.\n",
        "\"\"\"\n",
        "\n",
        "import streamlit as st\n",
        "\n",
        "from datetime import datetime\n",
        "import pandas as pd\n",
        "from dateutil import parser\n",
        "\n",
        "\n",
        "def apply_bundle_operation(bundle_operation, document):\n",
        "    cursor = 0\n",
        "    for entry in bundle_operation:\n",
        "        operation = entry['Op']\n",
        "        op_type = list(operation.keys())[0]\n",
        "        if op_type == 'Skip':\n",
        "            cursor = cursor + operation[op_type]\n",
        "        elif op_type == 'Delete':\n",
        "            document = document[:cursor]+document[cursor+operation[op_type]:]\n",
        "        elif op_type == 'Insert':\n",
        "            document = document[:cursor]+operation[op_type]+document[cursor:]\n",
        "            cursor = cursor + len(operation[op_type])\n",
        "    return document\n",
        "\n",
        "def get_document_at_time(time_ns):\n",
        "    ot_hist_df = pd.read_json('ot-hist.txt', lines=True)\n",
        "    ot_hist_df['seconds'] = ot_hist_df['committed'].apply(lambda x: x['seconds'])\n",
        "    ot_hist_df['nanos'] = ot_hist_df['committed'].apply(lambda x: x['seconds'] * 1000000000 + x['nanos'])\n",
        "    ot_hist_df = ot_hist_df[ot_hist_df['seconds'] <= time_ns].sort_values(by=['seconds','nanos'], ascending=True)\n",
        "    document = \"\"\n",
        "    for bundle_operation in ot_hist_df['ops'].values:\n",
        "        document = apply_bundle_operation(bundle_operation, document)\n",
        "    return document\n",
        "\n",
        "def get_max_nanos_ts():\n",
        "    ot_hist_df = pd.read_json('ot-hist.txt', lines=True)\n",
        "    ot_hist_df['seconds'] = ot_hist_df['committed'].apply(lambda x: x['seconds'])\n",
        "    max_nanos_ts = ot_hist_df['seconds'].max()\n",
        "    return max_nanos_ts\n",
        "\n",
        "def get_min_nanos_ts():\n",
        "    ot_hist_df = pd.read_json('ot-hist.txt', lines=True)\n",
        "    ot_hist_df['seconds'] = ot_hist_df['committed'].apply(lambda x: x['seconds'])\n",
        "    min_nanos_ts = ot_hist_df['seconds'].min()\n",
        "    return min_nanos_ts\n",
        "\n",
        "def date_to_nanos(date):\n",
        "    nanos_date = date.timestamp()\n",
        "    return nanos_date\n",
        "\n",
        "start_time = st.slider(\n",
        "     \"When do you start?\",\n",
        "     value=datetime.fromtimestamp(get_min_nanos_ts() ),\n",
        "     min_value=datetime.fromtimestamp(get_min_nanos_ts() ),\n",
        "     max_value=datetime.fromtimestamp(get_max_nanos_ts() ),\n",
        "     format=\"YYYY/MM/DD - hh:mm:ss\")\n",
        "st.write(\"Document:\", get_document_at_time(date_to_nanos(start_time)))\n"
      ],
      "metadata": {
        "id": "jaqcBhEH7uaQ",
        "colab": {
          "base_uri": "https://localhost:8080/",
          "height": 304
        },
        "outputId": "86e09114-763a-4d74-f3da-ac123ea33b64"
      },
      "execution_count": 79,
      "outputs": [
        {
          "output_type": "error",
          "ename": "ModuleNotFoundError",
          "evalue": "ignored",
          "traceback": [
            "\u001b[0;31m---------------------------------------------------------------------------\u001b[0m",
            "\u001b[0;31mModuleNotFoundError\u001b[0m                       Traceback (most recent call last)",
            "\u001b[0;32m<ipython-input-79-12b511d36365>\u001b[0m in \u001b[0;36m<module>\u001b[0;34m()\u001b[0m\n\u001b[0;32m----> 1\u001b[0;31m \u001b[0;32mimport\u001b[0m \u001b[0mstreamlit\u001b[0m\u001b[0;34m\u001b[0m\u001b[0;34m\u001b[0m\u001b[0m\n\u001b[0m",
            "\u001b[0;31mModuleNotFoundError\u001b[0m: No module named 'streamlit'",
            "",
            "\u001b[0;31m---------------------------------------------------------------------------\u001b[0;32m\nNOTE: If your import is failing due to a missing package, you can\nmanually install dependencies using either !pip or !apt.\n\nTo view examples of installing some common dependencies, click the\n\"Open Examples\" button below.\n\u001b[0;31m---------------------------------------------------------------------------\u001b[0m\n"
          ],
          "errorDetails": {
            "actions": [
              {
                "action": "open_url",
                "actionText": "Open Examples",
                "url": "/notebooks/snippets/importing_libraries.ipynb"
              }
            ]
          }
        }
      ]
    }
  ]
}
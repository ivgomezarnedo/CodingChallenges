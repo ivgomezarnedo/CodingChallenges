{
 "cells": [
  {
   "cell_type": "code",
   "execution_count": null,
   "metadata": {},
   "outputs": [],
   "source": [
    "#https://leetcode.com/explore/interview/card/top-interview-questions-medium/111/dynamic-programming/809/"
   ]
  },
  {
   "cell_type": "code",
   "execution_count": 15,
   "metadata": {},
   "outputs": [],
   "source": [
    "coins = [1,2,5,3]\n",
    "amount = 11"
   ]
  },
  {
   "cell_type": "code",
   "execution_count": 16,
   "metadata": {},
   "outputs": [],
   "source": [
    "coins.sort()"
   ]
  },
  {
   "cell_type": "code",
   "execution_count": 9,
   "metadata": {},
   "outputs": [
    {
     "name": "stdout",
     "output_type": "stream",
     "text": [
      "[1, 2, 3, 5]\n"
     ]
    }
   ],
   "source": [
    "print(coins)"
   ]
  },
  {
   "cell_type": "code",
   "execution_count": 17,
   "metadata": {},
   "outputs": [
    {
     "name": "stdout",
     "output_type": "stream",
     "text": [
      "5\n",
      "3\n",
      "2\n",
      "1\n",
      "3\n"
     ]
    }
   ],
   "source": [
    "counts=0\n",
    "for i in range(len(coins)-1,-1,-1):\n",
    "    print(coins[i])\n",
    "    while(amount>=coins[i]):\n",
    "        amount=amount-coins[i]\n",
    "        counts+=1\n",
    "print(counts)"
   ]
  },
  {
   "cell_type": "code",
   "execution_count": 19,
   "metadata": {},
   "outputs": [
    {
     "name": "stdout",
     "output_type": "stream",
     "text": [
      "[83, 186, 408, 419]\n",
      "419\n",
      "408\n",
      "186\n",
      "83\n",
      "16\n"
     ]
    }
   ],
   "source": [
    "coins=[186,419,83,408]\n",
    "amount=6249\n",
    "coins.sort()\n",
    "print(coins)\n",
    "counts=0\n",
    "for i in range(len(coins)-1,-1,-1):\n",
    "    print(coins[i])\n",
    "    while(amount>=coins[i]):\n",
    "        amount=amount-coins[i]\n",
    "        counts+=1\n",
    "print(counts)"
   ]
  },
  {
   "cell_type": "code",
   "execution_count": 28,
   "metadata": {},
   "outputs": [],
   "source": [
    "def _change_matrix(coin_set, change_amount):\n",
    "    matrix = [[0 for m in range(change_amount + 1)] for m in range(len(coin_set) + 1)]\n",
    "    for i in range(change_amount + 1):\n",
    "        matrix[0][i] = i\n",
    "    return matrix\n",
    "\n",
    "def change_making(coins, change):\n",
    "    matrix = _change_matrix(coins, change)\n",
    "    for c in range(1, len(coins) + 1):\n",
    "        for r in range(1, change + 1):\n",
    "\n",
    "            if coins[c-1] == r:\n",
    "                matrix[c][r] = 1\n",
    "\n",
    "            elif coins[c-1]> r:\n",
    "                matrix[c][r] = matrix[c-1][r]\n",
    "\n",
    "            else:\n",
    "                matrix[c][r] = min(matrix[c - 1][r], 1 + matrix[c][r - coins[c - 1]])\n",
    "\n",
    "    return matrix\n",
    "\n"
   ]
  },
  {
   "cell_type": "code",
   "execution_count": 27,
   "metadata": {},
   "outputs": [
    {
     "name": "stdout",
     "output_type": "stream",
     "text": [
      "[[0, 1, 2, 3, 4, 5, 6, 7, 8, 9, 10, 11], [0, 0, 0, 0, 0, 0, 0, 0, 0, 0, 0, 0], [0, 0, 0, 0, 0, 0, 0, 0, 0, 0, 0, 0], [0, 0, 0, 0, 0, 0, 0, 0, 0, 0, 0, 0], [0, 0, 0, 0, 0, 0, 0, 0, 0, 0, 0, 0]]\n"
     ]
    }
   ],
   "source": [
    "coins = [1,2,5,3]\n",
    "amount = 11\n",
    "print(_change_matrix(coins,amount))"
   ]
  },
  {
   "cell_type": "code",
   "execution_count": 29,
   "metadata": {},
   "outputs": [
    {
     "name": "stdout",
     "output_type": "stream",
     "text": [
      "[[0, 1, 2, 3, 4, 5, 6, 7, 8, 9, 10, 11], [0, 1, 2, 3, 4, 5, 6, 7, 8, 9, 10, 11], [0, 1, 1, 2, 2, 3, 3, 4, 4, 5, 5, 6], [0, 1, 1, 2, 2, 1, 2, 2, 3, 3, 2, 3], [0, 1, 1, 1, 2, 1, 2, 2, 2, 3, 2, 3]]\n"
     ]
    }
   ],
   "source": [
    "print(change_making(coins, amount))"
   ]
  },
  {
   "cell_type": "code",
   "execution_count": 32,
   "metadata": {},
   "outputs": [],
   "source": [
    "def coinChange(coins, amount):\n",
    "    if amount == 0 :\n",
    "        return 0\n",
    "    if min(coins) > amount:\n",
    "        return -1\n",
    "    dp = [-1 for i in range(0, amount + 1)]\n",
    "    for i in coins:\n",
    "        if i > len(dp) - 1:\n",
    "            continue\n",
    "        dp[i] = 1\n",
    "        for j in range(i + 1, amount + 1):\n",
    "            if dp[j - i] == -1:\n",
    "                continue\n",
    "            elif dp[j] == -1:\n",
    "                dp[j] = dp[j - i] + 1\n",
    "            else:\n",
    "                dp[j] = min(dp[j], dp[j - i] + 1)\n",
    "    return dp[amount]"
   ]
  },
  {
   "cell_type": "code",
   "execution_count": 33,
   "metadata": {},
   "outputs": [
    {
     "data": {
      "text/plain": [
       "20"
      ]
     },
     "execution_count": 33,
     "metadata": {},
     "output_type": "execute_result"
    }
   ],
   "source": [
    "coins=[186,419,83,408]\n",
    "amount=6249\n",
    "coinChange(coins,amount)"
   ]
  },
  {
   "cell_type": "code",
   "execution_count": 34,
   "metadata": {},
   "outputs": [
    {
     "data": {
      "text/plain": [
       "3"
      ]
     },
     "execution_count": 34,
     "metadata": {},
     "output_type": "execute_result"
    }
   ],
   "source": [
    "coins = [1,2,5,3]\n",
    "amount = 11\n",
    "coinChange(coins,amount)"
   ]
  },
  {
   "cell_type": "code",
   "execution_count": 36,
   "metadata": {},
   "outputs": [
    {
     "data": {
      "text/plain": [
       "[-1, -1, -1, -1, -1, -1, -1, -1, -1, -1, -1, -1]"
      ]
     },
     "execution_count": 36,
     "metadata": {},
     "output_type": "execute_result"
    }
   ],
   "source": [
    "[-1 for i in range(0, amount + 1)]"
   ]
  },
  {
   "cell_type": "code",
   "execution_count": null,
   "metadata": {},
   "outputs": [],
   "source": [
    "#https://www.tutorialspoint.com/coin-change-in-python\n",
    "#Este me resulta bastante complejo de entender y volveré a él en el futuro para tratar de entenderlo mejor.\n",
    "#https://www.youtube.com/watch?v=m2Elp9ubY3w\n",
    "#https://www.geeksforgeeks.org/python-program-for-coin-change/"
   ]
  }
 ],
 "metadata": {
  "kernelspec": {
   "display_name": "Python 3",
   "language": "python",
   "name": "python3"
  },
  "language_info": {
   "codemirror_mode": {
    "name": "ipython",
    "version": 3
   },
   "file_extension": ".py",
   "mimetype": "text/x-python",
   "name": "python",
   "nbconvert_exporter": "python",
   "pygments_lexer": "ipython3",
   "version": "3.8.5"
  }
 },
 "nbformat": 4,
 "nbformat_minor": 4
}

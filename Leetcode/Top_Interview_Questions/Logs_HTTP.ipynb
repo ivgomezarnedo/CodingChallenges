{
 "cells": [
  {
   "cell_type": "code",
   "execution_count": 1,
   "metadata": {},
   "outputs": [
    {
     "data": {
      "text/plain": [
       "2"
      ]
     },
     "execution_count": 1,
     "metadata": {},
     "output_type": "execute_result"
    }
   ],
   "source": [
    "#https://leetcode.com/discuss/interview-experience/299544/datadog-software-engineering-intern-interview-process\n",
    "#https://www.programiz.com/python-programming/datetime/strptime"
   ]
  },
  {
   "cell_type": "code",
   "execution_count": 18,
   "metadata": {},
   "outputs": [
    {
     "name": "stdout",
     "output_type": "stream",
     "text": [
      "<class 'pandas.core.frame.DataFrame'>\n",
      "RangeIndex: 16007 entries, 0 to 16006\n",
      "Data columns (total 4 columns):\n",
      " #   Column  Non-Null Count  Dtype \n",
      "---  ------  --------------  ----- \n",
      " 0   IP      16007 non-null  object\n",
      " 1   Time    16007 non-null  object\n",
      " 2   URL     16007 non-null  object\n",
      " 3   Staus   16007 non-null  object\n",
      "dtypes: object(4)\n",
      "memory usage: 500.3+ KB\n",
      "None\n"
     ]
    }
   ],
   "source": [
    "import pandas\n",
    "df = pandas.read_csv('weblog.csv')\n",
    "print(df.info())"
   ]
  },
  {
   "cell_type": "code",
   "execution_count": 69,
   "metadata": {
    "scrolled": true
   },
   "outputs": [
    {
     "data": {
      "text/plain": [
       "0        [29/Nov/2017:06:58:55\n",
       "1        [29/Nov/2017:06:59:02\n",
       "2        [29/Nov/2017:06:59:03\n",
       "3        [29/Nov/2017:06:59:04\n",
       "4        [29/Nov/2017:06:59:06\n",
       "                 ...          \n",
       "16002    [02/Mar/2018:15:47:12\n",
       "16003    [02/Mar/2018:15:47:23\n",
       "16004    [02/Mar/2018:15:47:32\n",
       "16005    [02/Mar/2018:15:47:35\n",
       "16006    [02/Mar/2018:15:47:46\n",
       "Name: Time, Length: 16007, dtype: object"
      ]
     },
     "execution_count": 69,
     "metadata": {},
     "output_type": "execute_result"
    }
   ],
   "source": [
    "df[\"Time\"].to_datetime(\"2013-03-31\", format=\"%Y-%m-%d\") - pd.DateOffset(months=1)"
   ]
  },
  {
   "cell_type": "code",
   "execution_count": 15,
   "metadata": {},
   "outputs": [
    {
     "name": "stdout",
     "output_type": "stream",
     "text": [
      "11330\n"
     ]
    }
   ],
   "source": [
    "import csv\n",
    "\n",
    "with open('weblog.csv', mode='r') as csv_file:\n",
    "    csv_reader = csv.DictReader(csv_file)\n",
    "    status_count = 0\n",
    "    for row in csv_reader:\n",
    "        if(row[\"Staus\"]==\"200\"):\n",
    "           status_count+=1\n",
    "    print(status_count)"
   ]
  },
  {
   "cell_type": "code",
   "execution_count": 79,
   "metadata": {},
   "outputs": [
    {
     "name": "stdout",
     "output_type": "stream",
     "text": [
      "0\n"
     ]
    }
   ],
   "source": [
    "import csv,re\n",
    "import dateutil\n",
    "\n",
    "\n",
    "with open('weblog.csv', mode='r') as csv_file:\n",
    "    csv_reader = csv.DictReader(csv_file)\n",
    "    count=0\n",
    "    for row in csv_reader:\n",
    "        list=row[\"Time\"][1:12].split(\"/\")\n",
    "        if(len(list)==3):\n",
    "            date_formatted=str(list[0])+\"/\"+str(strptime(list[1],\"%b\").tm_mon)+\"/\"+str(list[2])\n",
    "            date=datetime.datetime.strptime(date_formatted, '%d/%m/%Y')\n",
    "            minus2_month = dateutil.relativedelta.relativedelta(months=-2)\n",
    "            final_date = date + minus2_month\n",
    "            today_minus2_month=datetime.datetime.today()+minus2_month\n",
    "            if(date>today_minus2_month):\n",
    "                count+=1\n",
    "print(count)\n",
    "                \n",
    "        "
   ]
  }
 ],
 "metadata": {
  "kernelspec": {
   "display_name": "Python 3",
   "language": "python",
   "name": "python3"
  },
  "language_info": {
   "codemirror_mode": {
    "name": "ipython",
    "version": 3
   },
   "file_extension": ".py",
   "mimetype": "text/x-python",
   "name": "python",
   "nbconvert_exporter": "python",
   "pygments_lexer": "ipython3",
   "version": "3.8.5"
  }
 },
 "nbformat": 4,
 "nbformat_minor": 4
}

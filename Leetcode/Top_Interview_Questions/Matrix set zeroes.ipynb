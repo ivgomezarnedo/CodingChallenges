{
 "cells": [
  {
   "cell_type": "code",
   "execution_count": 37,
   "metadata": {},
   "outputs": [],
   "source": [
    "#https://leetcode.com/explore/interview/card/top-interview-questions-medium/103/array-and-strings/777/"
   ]
  },
  {
   "cell_type": "code",
   "execution_count": null,
   "metadata": {},
   "outputs": [],
   "source": [
    "matrix=[[0,1,2,0],[3,4,5,2],[1,3,1,5]]"
   ]
  },
  {
   "cell_type": "code",
   "execution_count": 34,
   "metadata": {},
   "outputs": [],
   "source": [
    "matrix = [[1,1,1],[1,0,1],[1,1,1]]"
   ]
  },
  {
   "cell_type": "code",
   "execution_count": 35,
   "metadata": {},
   "outputs": [
    {
     "name": "stdout",
     "output_type": "stream",
     "text": [
      "[[1, 0, 1], [0, 0, 0], [1, 0, 1]]\n"
     ]
    }
   ],
   "source": [
    "#TO RETURN OTHER MATRIX\n",
    "rows_zero=set()\n",
    "columns_zero=set()\n",
    "for row in range(0,len(matrix)):\n",
    "    for column in range(0,len(matrix[row])):\n",
    "        if(matrix[row][column]==0):\n",
    "            rows_zero.add(row)\n",
    "            columns_zero.add(column)\n",
    "final_matrix=[]\n",
    "for row in range(0,len(matrix)):\n",
    "    aux_row=[]\n",
    "    if row not in rows_zero:\n",
    "        for column in range(0,len(matrix[row])):\n",
    "            if(column not in columns_zero):\n",
    "                aux_row.append(matrix[row][column])\n",
    "            else:\n",
    "                aux_row.append(0)\n",
    "        final_matrix.append(aux_row)\n",
    "    else:\n",
    "        final_matrix.append([0]*len(matrix[row]))\n",
    "print(final_matrix)"
   ]
  },
  {
   "cell_type": "code",
   "execution_count": 36,
   "metadata": {},
   "outputs": [
    {
     "name": "stdout",
     "output_type": "stream",
     "text": [
      "[[1, 0, 1], [0, 0, 0], [1, 0, 1]]\n"
     ]
    }
   ],
   "source": [
    "#TO RETURN THE SAME MATRIX.\n",
    "#First I identify the number of rows and columns with a zero and then I recreate the matrix. O(2*(len(row)*len(column)))\n",
    "rows_zero=set()\n",
    "columns_zero=set()\n",
    "for row in range(0,len(matrix)):\n",
    "    for column in range(0,len(matrix[row])):\n",
    "        if(matrix[row][column]==0):\n",
    "            rows_zero.add(row)\n",
    "            columns_zero.add(column)\n",
    "for row in range(0,len(matrix)):\n",
    "    for column in range(0,len(matrix[row])):\n",
    "        if(column in columns_zero or row in rows_zero):\n",
    "            matrix[row][column]=0\n",
    "\n",
    "print(matrix)"
   ]
  }
 ],
 "metadata": {
  "kernelspec": {
   "display_name": "Python 3",
   "language": "python",
   "name": "python3"
  },
  "language_info": {
   "codemirror_mode": {
    "name": "ipython",
    "version": 3
   },
   "file_extension": ".py",
   "mimetype": "text/x-python",
   "name": "python",
   "nbconvert_exporter": "python",
   "pygments_lexer": "ipython3",
   "version": "3.7.6"
  }
 },
 "nbformat": 4,
 "nbformat_minor": 4
}

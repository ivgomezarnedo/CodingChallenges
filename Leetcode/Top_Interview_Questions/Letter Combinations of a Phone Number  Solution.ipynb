{
 "cells": [
  {
   "cell_type": "code",
   "execution_count": null,
   "metadata": {},
   "outputs": [],
   "source": [
    "#https://leetcode.com/explore/interview/card/top-interview-questions-medium/109/backtracking/793/"
   ]
  },
  {
   "cell_type": "code",
   "execution_count": 4,
   "metadata": {},
   "outputs": [],
   "source": [
    "two=[\"a\",\"b\",\"c\"]\n",
    "three=[\"d\",\"e\",\"f\"]"
   ]
  },
  {
   "cell_type": "code",
   "execution_count": 7,
   "metadata": {},
   "outputs": [],
   "source": [
    "import numpy as np\n",
    "result=np.char.add(two, three)"
   ]
  },
  {
   "cell_type": "code",
   "execution_count": 8,
   "metadata": {},
   "outputs": [
    {
     "name": "stdout",
     "output_type": "stream",
     "text": [
      "['ad' 'be' 'cf']\n"
     ]
    }
   ],
   "source": [
    "print(result)"
   ]
  },
  {
   "cell_type": "code",
   "execution_count": 9,
   "metadata": {},
   "outputs": [
    {
     "name": "stdout",
     "output_type": "stream",
     "text": [
      "['((' '))' '((' '))' '((' '))']\n"
     ]
    }
   ],
   "source": [
    "par=[\"(\",\")\",\"(\",\")\",\"(\",\")\"]\n",
    "print(np.char.add(par,par))"
   ]
  },
  {
   "cell_type": "code",
   "execution_count": 25,
   "metadata": {},
   "outputs": [
    {
     "name": "stdout",
     "output_type": "stream",
     "text": [
      "{'()()()', '((()))', '(())()', '()(())', '(()())'}\n"
     ]
    }
   ],
   "source": [
    "from itertools import permutations\n",
    "perms = [''.join(p) for p in permutations('((()))')]\n",
    "final_perms=set()\n",
    "for per in set(perms):\n",
    "    stack=[]\n",
    "    for char in per:\n",
    "        if(char=='('):\n",
    "            stack.append(char)\n",
    "        elif stack:\n",
    "            stack.remove(\"(\")\n",
    "    if(not stack):\n",
    "        final_perms.add(per)\n",
    "print(final_perms)\n",
    "#Final Solution    \n",
    "        "
   ]
  },
  {
   "cell_type": "code",
   "execution_count": null,
   "metadata": {},
   "outputs": [],
   "source": [
    "#TESTS PERFORMED"
   ]
  },
  {
   "cell_type": "code",
   "execution_count": 14,
   "metadata": {},
   "outputs": [
    {
     "data": {
      "text/plain": [
       "['(', '(', '(', ')', ')', ')']"
      ]
     },
     "execution_count": 14,
     "metadata": {},
     "output_type": "execute_result"
    }
   ],
   "source": [
    "sorted(')()()(')"
   ]
  },
  {
   "cell_type": "code",
   "execution_count": 16,
   "metadata": {},
   "outputs": [
    {
     "data": {
      "text/plain": [
       "'((()))'"
      ]
     },
     "execution_count": 16,
     "metadata": {},
     "output_type": "execute_result"
    }
   ],
   "source": [
    "(3*'(')+(3*')')"
   ]
  },
  {
   "cell_type": "code",
   "execution_count": null,
   "metadata": {},
   "outputs": [],
   "source": [
    "stack=['((()))']"
   ]
  },
  {
   "cell_type": "code",
   "execution_count": 19,
   "metadata": {},
   "outputs": [
    {
     "name": "stdout",
     "output_type": "stream",
     "text": [
      "['(']\n",
      "['(', '(']\n",
      "['(', '(', '(']\n",
      "['(', '(']\n",
      "['(']\n",
      "[]\n"
     ]
    }
   ],
   "source": [
    "stack=[]\n",
    "for char in '((()))':\n",
    "    if(char=='('):\n",
    "        stack.append(char)\n",
    "    elif stack:\n",
    "        stack.remove(\"(\")\n",
    "    print(stack)\n"
   ]
  },
  {
   "cell_type": "code",
   "execution_count": 23,
   "metadata": {},
   "outputs": [
    {
     "name": "stdout",
     "output_type": "stream",
     "text": [
      "['(']\n",
      "[]\n",
      "['(']\n",
      "['(', '(']\n",
      "['(']\n",
      "[]\n"
     ]
    }
   ],
   "source": [
    "stack=[]\n",
    "for char in '()(())':\n",
    "    if(char=='('):\n",
    "        stack.append(char)\n",
    "    elif stack:\n",
    "        stack.remove(\"(\")\n",
    "    print(stack)\n"
   ]
  }
 ],
 "metadata": {
  "kernelspec": {
   "display_name": "Python 3",
   "language": "python",
   "name": "python3"
  },
  "language_info": {
   "codemirror_mode": {
    "name": "ipython",
    "version": 3
   },
   "file_extension": ".py",
   "mimetype": "text/x-python",
   "name": "python",
   "nbconvert_exporter": "python",
   "pygments_lexer": "ipython3",
   "version": "3.7.6"
  }
 },
 "nbformat": 4,
 "nbformat_minor": 4
}

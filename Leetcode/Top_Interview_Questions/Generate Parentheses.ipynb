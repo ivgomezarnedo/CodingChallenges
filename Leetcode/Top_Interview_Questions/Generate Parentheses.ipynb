{
 "cells": [
  {
   "cell_type": "code",
   "execution_count": null,
   "metadata": {},
   "outputs": [],
   "source": [
    "#https://leetcode.com/explore/interview/card/top-interview-questions-medium/109/backtracking/794/"
   ]
  },
  {
   "cell_type": "code",
   "execution_count": 1,
   "metadata": {},
   "outputs": [],
   "source": [
    "n = 3"
   ]
  },
  {
   "cell_type": "code",
   "execution_count": 3,
   "metadata": {},
   "outputs": [
    {
     "name": "stdout",
     "output_type": "stream",
     "text": [
      "{'()(())', '(()())', '(())()', '()()()', '((()))'}\n"
     ]
    }
   ],
   "source": [
    "from itertools import permutations\n",
    "#Easier with the itertools but it fails with TimeLimitExceeds when submitting the execution...\n",
    "perms = [''.join(p) for p in permutations((n*'(')+(n*')'))]\n",
    "final_perms=set()\n",
    "for per in set(perms):\n",
    "    stack=[]\n",
    "    for char in per:\n",
    "        if(char=='('):\n",
    "            stack.append(char)\n",
    "        elif stack:\n",
    "            if(\"(\" in stack):\n",
    "                stack.remove(\"(\")\n",
    "            else:\n",
    "                break\n",
    "    if(not stack):\n",
    "        final_perms.add(per)\n",
    "print(final_perms)"
   ]
  }
 ],
 "metadata": {
  "kernelspec": {
   "display_name": "Python 3",
   "language": "python",
   "name": "python3"
  },
  "language_info": {
   "codemirror_mode": {
    "name": "ipython",
    "version": 3
   },
   "file_extension": ".py",
   "mimetype": "text/x-python",
   "name": "python",
   "nbconvert_exporter": "python",
   "pygments_lexer": "ipython3",
   "version": "3.8.5"
  }
 },
 "nbformat": 4,
 "nbformat_minor": 4
}

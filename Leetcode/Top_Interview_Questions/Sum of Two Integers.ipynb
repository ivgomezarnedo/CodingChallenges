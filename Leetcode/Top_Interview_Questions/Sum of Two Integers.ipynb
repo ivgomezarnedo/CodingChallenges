{
 "cells": [
  {
   "cell_type": "code",
   "execution_count": null,
   "metadata": {},
   "outputs": [],
   "source": [
    "#https://leetcode.com/explore/interview/card/top-interview-questions-medium/114/others/822/"
   ]
  },
  {
   "cell_type": "code",
   "execution_count": 1,
   "metadata": {},
   "outputs": [],
   "source": [
    "a = 1\n",
    "b = 2"
   ]
  },
  {
   "cell_type": "code",
   "execution_count": 29,
   "metadata": {},
   "outputs": [],
   "source": [
    "a = 6\n",
    "b = -2"
   ]
  },
  {
   "cell_type": "code",
   "execution_count": 30,
   "metadata": {},
   "outputs": [
    {
     "name": "stdout",
     "output_type": "stream",
     "text": [
      "4\n"
     ]
    }
   ],
   "source": [
    "result=[]\n",
    "signo=1\n",
    "if((a>=0 and b>=0) or (a<=0 and b<=0)):\n",
    "    if((a<=0 and b<=0)):\n",
    "        signo=-1\n",
    "    for x in range(abs(a)):\n",
    "        result.append(1)\n",
    "    for y in range(abs(b)):\n",
    "        result.append(1)\n",
    "elif(a>=0):\n",
    "    if(abs(b)>a):\n",
    "        signo=-1\n",
    "    for x in range(min(a,abs(b)),max(a,abs(b))):\n",
    "        result.append(1)\n",
    "elif(b>=0):\n",
    "    if(abs(a)>b):\n",
    "        signo=-1\n",
    "    for x in range(min(abs(a),b),max(abs(a),b)):\n",
    "        result.append(1)\n",
    "print(len(result)*signo)\n",
    " \n",
    "#Si no se pudiesen utilizar multiplicaciones y valores absolutos ¿Como lo implementaría?     "
   ]
  },
  {
   "cell_type": "code",
   "execution_count": null,
   "metadata": {},
   "outputs": [],
   "source": [
    "#Cómo lo implementarían por primera vez?\n",
    "#https://stackoverflow.com/questions/38557464/sum-of-two-integers-without-using-operator-in-python\n",
    "#Claro, con ennsamblador y algoritmos en binario. "
   ]
  }
 ],
 "metadata": {
  "kernelspec": {
   "display_name": "Python 3",
   "language": "python",
   "name": "python3"
  },
  "language_info": {
   "codemirror_mode": {
    "name": "ipython",
    "version": 3
   },
   "file_extension": ".py",
   "mimetype": "text/x-python",
   "name": "python",
   "nbconvert_exporter": "python",
   "pygments_lexer": "ipython3",
   "version": "3.8.5"
  }
 },
 "nbformat": 4,
 "nbformat_minor": 4
}

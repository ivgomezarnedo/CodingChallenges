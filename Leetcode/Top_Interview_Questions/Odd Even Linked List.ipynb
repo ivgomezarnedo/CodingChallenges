{
 "cells": [
  {
   "cell_type": "code",
   "execution_count": null,
   "metadata": {},
   "outputs": [],
   "source": [
    "#https://leetcode.com/explore/interview/card/top-interview-questions-medium/107/linked-list/784/"
   ]
  },
  {
   "cell_type": "code",
   "execution_count": 2,
   "metadata": {},
   "outputs": [],
   "source": [
    "class ListNode:\n",
    " def __init__(self, val=0, next=None):\n",
    "     self.val = val\n",
    "     self.next = next"
   ]
  },
  {
   "cell_type": "code",
   "execution_count": null,
   "metadata": {},
   "outputs": [],
   "source": [
    "#[1,2,3,4,5]"
   ]
  },
  {
   "cell_type": "code",
   "execution_count": null,
   "metadata": {},
   "outputs": [],
   "source": [
    "# Definition for singly-linked list.\n",
    "# class ListNode:\n",
    "#     def __init__(self, val=0, next=None):\n",
    "#         self.val = val\n",
    "#         self.next = next\n",
    "class Solution:\n",
    "    def oddEvenList(self, head: ListNode) -> ListNode:\n",
    "        i=1\n",
    "        uneven_head=ListNode(0)\n",
    "        even_head=ListNode(0)\n",
    "        linked_even=even_head\n",
    "        linked_uneven=uneven_head\n",
    "        while(head!=None):\n",
    "            if(i%2==0):\n",
    "                linked_even.next=ListNode(head.val)\n",
    "                #The main point is to see that we can't assign directly the 'head' to it because that 'head' has also a .next parameter that we don't want to take.\n",
    "                linked_even=linked_even.next\n",
    "            else:\n",
    "                linked_uneven.next=ListNode(head.val)\n",
    "                linked_uneven=linked_uneven.next\n",
    "            i+=1\n",
    "            head=head.next\n",
    "        linked_uneven.next=even_head.next\n",
    "        return uneven_head.next"
   ]
  }
 ],
 "metadata": {
  "kernelspec": {
   "display_name": "Python 3",
   "language": "python",
   "name": "python3"
  },
  "language_info": {
   "codemirror_mode": {
    "name": "ipython",
    "version": 3
   },
   "file_extension": ".py",
   "mimetype": "text/x-python",
   "name": "python",
   "nbconvert_exporter": "python",
   "pygments_lexer": "ipython3",
   "version": "3.8.5"
  }
 },
 "nbformat": 4,
 "nbformat_minor": 4
}

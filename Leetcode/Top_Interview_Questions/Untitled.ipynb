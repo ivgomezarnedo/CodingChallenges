{
 "cells": [
  {
   "cell_type": "code",
   "execution_count": 1,
   "metadata": {},
   "outputs": [],
   "source": [
    "import functools"
   ]
  },
  {
   "cell_type": "code",
   "execution_count": null,
   "metadata": {},
   "outputs": [],
   "source": []
  },
  {
   "cell_type": "code",
   "execution_count": 3,
   "metadata": {},
   "outputs": [
    {
     "ename": "SyntaxError",
     "evalue": "unexpected EOF while parsing (<ipython-input-3-2d6b48361087>, line 1)",
     "output_type": "error",
     "traceback": [
      "\u001b[1;36m  File \u001b[1;32m\"<ipython-input-3-2d6b48361087>\"\u001b[1;36m, line \u001b[1;32m1\u001b[0m\n\u001b[1;33m    @functools.lru_cache()\u001b[0m\n\u001b[1;37m                          ^\u001b[0m\n\u001b[1;31mSyntaxError\u001b[0m\u001b[1;31m:\u001b[0m unexpected EOF while parsing\n"
     ]
    }
   ],
   "source": [
    "@functools.lru_cache()"
   ]
  },
  {
   "cell_type": "code",
   "execution_count": 5,
   "metadata": {},
   "outputs": [
    {
     "name": "stdout",
     "output_type": "stream",
     "text": [
      "89\n"
     ]
    }
   ],
   "source": [
    "def fibonacci(n):\n",
    "    if n < 4:\n",
    "        return n\n",
    "    return fibonacci(n-1)+fibonacci(n-2)\n",
    "res=fibonacci(10)\n",
    "print(res)"
   ]
  },
  {
   "cell_type": "code",
   "execution_count": 6,
   "metadata": {},
   "outputs": [
    {
     "name": "stdout",
     "output_type": "stream",
     "text": [
      "-1\n"
     ]
    }
   ],
   "source": [
    "from math import sin,cos,pi\n",
    "def decorProg(f):\n",
    "    def function(x):\n",
    "        res=int(f(x))\n",
    "        print(res)\n",
    "    return function\n",
    "sin=decorProg(cos)\n",
    "for f in [sin,cos]:\n",
    "    f(pi)"
   ]
  },
  {
   "cell_type": "code",
   "execution_count": 7,
   "metadata": {
    "scrolled": true
   },
   "outputs": [
    {
     "name": "stdout",
     "output_type": "stream",
     "text": [
      "18\n"
     ]
    }
   ],
   "source": [
    "def mul(f):\n",
    "    def Cal(*args,**kwargs):\n",
    "        result=f(*args,**kwargs)\n",
    "        return result\n",
    "    return Cal\n",
    "@mul\n",
    "def mul(a,b):\n",
    "    return a*b\n",
    "print(mul(3,b=6))"
   ]
  },
  {
   "cell_type": "code",
   "execution_count": 12,
   "metadata": {},
   "outputs": [
    {
     "name": "stdout",
     "output_type": "stream",
     "text": [
      "aabcc\n",
      "cabba\n"
     ]
    }
   ],
   "source": [
    "string=\"aabcccabba\"\n",
    "firstpart, secondpart = string[:len(string)//2], string[len(string)//2:]\n",
    "print(firstpart)\n",
    "print(secondpart)\n"
   ]
  },
  {
   "cell_type": "code",
   "execution_count": 13,
   "metadata": {},
   "outputs": [
    {
     "name": "stdout",
     "output_type": "stream",
     "text": [
      "cabbaaabcc\n"
     ]
    }
   ],
   "source": [
    "print(secondpart+firstpart)\n"
   ]
  }
 ],
 "metadata": {
  "kernelspec": {
   "display_name": "Python 3",
   "language": "python",
   "name": "python3"
  },
  "language_info": {
   "codemirror_mode": {
    "name": "ipython",
    "version": 3
   },
   "file_extension": ".py",
   "mimetype": "text/x-python",
   "name": "python",
   "nbconvert_exporter": "python",
   "pygments_lexer": "ipython3",
   "version": "3.7.6"
  }
 },
 "nbformat": 4,
 "nbformat_minor": 4
}

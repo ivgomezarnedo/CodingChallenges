{
 "cells": [
  {
   "cell_type": "code",
   "execution_count": 2,
   "metadata": {},
   "outputs": [],
   "source": [
    "l1 = [2,4,3]\n",
    "l2 = [5,6,4]"
   ]
  },
  {
   "cell_type": "code",
   "execution_count": null,
   "metadata": {},
   "outputs": [],
   "source": [
    "#https://leetcode.com/explore/interview/card/top-interview-questions-medium/107/linked-list/783/"
   ]
  },
  {
   "cell_type": "code",
   "execution_count": 4,
   "metadata": {},
   "outputs": [],
   "source": [
    "l1 = [9,9,9,9,9,9,9]\n",
    "l2 = [9,9,9,9]"
   ]
  },
  {
   "cell_type": "code",
   "execution_count": 6,
   "metadata": {},
   "outputs": [],
   "source": [
    "# Definition for singly-linked list.\n",
    "# class ListNode:\n",
    "#     def __init__(self, val=0, next=None):\n",
    "#         self.val = val\n",
    "#         self.next = next\n",
    "class Solution:\n",
    "    def addTwoNumbers(self, l1: ListNode, l2: ListNode) -> ListNode:\n",
    "        list_head=ListNode(0)\n",
    "        linked_list=list_head\n",
    "        carry=0\n",
    "        while(l1!=None or l2!=None):\n",
    "            digit1=l1.val if l1!=None else 0\n",
    "            digit2=l2.val if l2!=None else 0\n",
    "            suma=digit1+digit2+carry\n",
    "            carry=suma//10 #Integer division\n",
    "            last_digit=suma%10\n",
    "            linked_list.next=ListNode(last_digit)\n",
    "            linked_list=linked_list.next\n",
    "            if(l1!=None):\n",
    "                l1=l1.next\n",
    "            if(l2!=None):\n",
    "                l2=l2.next\n",
    "        if(carry>0):\n",
    "            linked_list.next=ListNode(carry)\n",
    "            linked_list=linked_list.next\n",
    "        return list_head.next\n",
    "            "
   ]
  }
 ],
 "metadata": {
  "kernelspec": {
   "display_name": "Python 3",
   "language": "python",
   "name": "python3"
  },
  "language_info": {
   "codemirror_mode": {
    "name": "ipython",
    "version": 3
   },
   "file_extension": ".py",
   "mimetype": "text/x-python",
   "name": "python",
   "nbconvert_exporter": "python",
   "pygments_lexer": "ipython3",
   "version": "3.7.6"
  }
 },
 "nbformat": 4,
 "nbformat_minor": 4
}

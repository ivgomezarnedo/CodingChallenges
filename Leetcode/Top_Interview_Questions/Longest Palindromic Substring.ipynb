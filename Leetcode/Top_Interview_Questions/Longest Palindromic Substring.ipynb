{
 "cells": [
  {
   "cell_type": "code",
   "execution_count": null,
   "metadata": {},
   "outputs": [],
   "source": [
    "#https://leetcode.com/explore/interview/card/top-interview-questions-medium/103/array-and-strings/780/"
   ]
  },
  {
   "cell_type": "code",
   "execution_count": 25,
   "metadata": {},
   "outputs": [],
   "source": [
    "string = \"babad\""
   ]
  },
  {
   "cell_type": "code",
   "execution_count": 11,
   "metadata": {},
   "outputs": [],
   "source": [
    "string = \"cbbd\""
   ]
  },
  {
   "cell_type": "code",
   "execution_count": 13,
   "metadata": {},
   "outputs": [],
   "source": [
    "string = \"a\""
   ]
  },
  {
   "cell_type": "code",
   "execution_count": 22,
   "metadata": {},
   "outputs": [],
   "source": [
    "string=\"xyzbab\""
   ]
  },
  {
   "cell_type": "code",
   "execution_count": 27,
   "metadata": {},
   "outputs": [],
   "source": [
    "string=\"rgszobovkyonbtpsjnygxkugokdascyhwvqiawupiesrqewwyxwzqfalcgtnyppflgghrkwvwtaugkllyqoonzobflqjkcmhlstbmqungfzvbkucdrvciifriaebpicmuavesdnucgmhdmzkpwocerostwzipukprmpcltrkvafgqavfhhmojwypttnymjgluohwzhjlmxluvosyfcnajuvphlrmzdmmmyarpnhmypgygshuegfnnlktotiqpmjtuaigxechjtwwvceqrfmtzwevryyhivbcsgnldfiaedbummzzqfasmpveyzasgleiuqltwauvdaheesaaroytlhfdyjsjwgfpgllmwajkujooahsspfirjeyimoacfzcojqgpiqtplkondgfiqqxwakkwvsrumkalvdtokrityxwxmsmprraotxheqgthpucugjlhrllakkbfmmfbkkallrhljgucuphtgqehxtoarrpmsmxwxytirkotdvlakmursvwkkawxqqifgdnoklptqipgqjoczfcaomiyejrifpsshaoojukjawmllgpfgwjsjydfhltyoraaseehadvuawtlquielgsazyevpmsafqzzmmubdeaifdlngscbvihyyrvewztmfrqecvwwtjhcexgiautjmpqitotklnnfgeuhsgygpymhnpraymmmdzmrlhpvujancfysovulxmljhzwhoulgjmynttpywjomhhfvaqgfavkrtlcpmrpkupizwtsorecowpkzmdhmgcundsevaumcipbeairfiicvrdcukbvzfgnuqmbtslhmckjqlfboznooqyllkguatwvwkrhgglfppyntgclafqzwxywweqrseipuwaiqvwhycsadkogukxgynjsptbnoykvobozsgr\""
   ]
  },
  {
   "cell_type": "code",
   "execution_count": 14,
   "metadata": {},
   "outputs": [
    {
     "name": "stdout",
     "output_type": "stream",
     "text": [
      "a\n",
      "\n",
      "1\n"
     ]
    }
   ],
   "source": [
    "longest_palindrome=\"\"\n",
    "for i in range(0,len(string)):\n",
    "    local_string=string[i]\n",
    "    aux_palindrome=string[i]\n",
    "    for j in range(i+1,len(string)):\n",
    "        char=string[j]\n",
    "        word=local_string+char\n",
    "        print(char)\n",
    "        print(word)\n",
    "        print(word[::-1])\n",
    "        if(word==word[::-1]):\n",
    "            aux_palindrome=word\n",
    "        local_string=word\n",
    "    if(len(longest_palindrome)<len(aux_palindrome)):\n",
    "        longest_palindrome=aux_palindrome\n",
    "    print(longest_palindrome)\n",
    "    print(\"\")\n",
    "\n",
    "\n",
    "print(len(longest_palindrome))"
   ]
  },
  {
   "cell_type": "code",
   "execution_count": 30,
   "metadata": {},
   "outputs": [
    {
     "name": "stdout",
     "output_type": "stream",
     "text": [
      "rgszobovkyonbtpsjnygxkugokdascyhwvqiawupiesrqewwyxwzqfalcgtnyppflgghrkwvwtaugkllyqoonzobflqjkcmhlstbmqungfzvbkucdrvciifriaebpicmuavesdnucgmhdmzkpwocerostwzipukprmpcltrkvafgqavfhhmojwypttnymjgluohwzhjlmxluvosyfcnajuvphlrmzdmmmyarpnhmypgygshuegfnnlktotiqpmjtuaigxechjtwwvceqrfmtzwevryyhivbcsgnldfiaedbummzzqfasmpveyzasgleiuqltwauvdaheesaaroytlhfdyjsjwgfpgllmwajkujooahsspfirjeyimoacfzcojqgpiqtplkondgfiqqxwakkwvsrumkalvdtokrityxwxmsmprraotxheqgthpucugjlhrllakkbfmmfbkkallrhljgucuphtgqehxtoarrpmsmxwxytirkotdvlakmursvwkkawxqqifgdnoklptqipgqjoczfcaomiyejrifpsshaoojukjawmllgpfgwjsjydfhltyoraaseehadvuawtlquielgsazyevpmsafqzzmmubdeaifdlngscbvihyyrvewztmfrqecvwwtjhcexgiautjmpqitotklnnfgeuhsgygpymhnpraymmmdzmrlhpvujancfysovulxmljhzwhoulgjmynttpywjomhhfvaqgfavkrtlcpmrpkupizwtsorecowpkzmdhmgcundsevaumcipbeairfiicvrdcukbvzfgnuqmbtslhmckjqlfboznooqyllkguatwvwkrhgglfppyntgclafqzwxywweqrseipuwaiqvwhycsadkogukxgynjsptbnoykvobozsgr\n"
     ]
    }
   ],
   "source": [
    "#FINAL SOLUTION\n",
    "longest_palindrome=\"\"\n",
    "for i in range(0,len(string)):\n",
    "    aux_palindrome=string[i]\n",
    "    for j in range(i+1,len(string)):\n",
    "        word=string[i:j+1]\n",
    "        if(word==word[::-1]):\n",
    "            aux_palindrome=word\n",
    "    if(len(longest_palindrome)<len(aux_palindrome)):\n",
    "        longest_palindrome=aux_palindrome\n",
    "\n",
    "\n",
    "print(longest_palindrome)"
   ]
  }
 ],
 "metadata": {
  "kernelspec": {
   "display_name": "Python 3",
   "language": "python",
   "name": "python3"
  },
  "language_info": {
   "codemirror_mode": {
    "name": "ipython",
    "version": 3
   },
   "file_extension": ".py",
   "mimetype": "text/x-python",
   "name": "python",
   "nbconvert_exporter": "python",
   "pygments_lexer": "ipython3",
   "version": "3.8.5"
  }
 },
 "nbformat": 4,
 "nbformat_minor": 4
}

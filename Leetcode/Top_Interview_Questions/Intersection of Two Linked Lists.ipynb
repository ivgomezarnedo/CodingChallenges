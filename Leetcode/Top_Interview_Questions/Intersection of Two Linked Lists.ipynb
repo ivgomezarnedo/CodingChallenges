{
 "cells": [
  {
   "cell_type": "code",
   "execution_count": null,
   "metadata": {},
   "outputs": [],
   "source": [
    "#https://leetcode.com/explore/interview/card/top-interview-questions-medium/107/linked-list/785/"
   ]
  },
  {
   "cell_type": "code",
   "execution_count": null,
   "metadata": {},
   "outputs": [],
   "source": [
    "# Definition for singly-linked list.\n",
    "# class ListNode:\n",
    "#     def __init__(self, x):\n",
    "#         self.val = x\n",
    "#         self.next = None\n",
    "class Solution:\n",
    "    def countElements(lista: ListNode):\n",
    "        num_elements=0\n",
    "        while(lista!=None):\n",
    "            num_elements+=1\n",
    "            lista=lista.next\n",
    "        return num_elements\n",
    "    \n",
    "    def getIntersectionNode(self, headA: ListNode, headB: ListNode) -> ListNode:\n",
    "        l1=headA\n",
    "        l2=headB\n",
    "        l1_elements=countElements(l1)\n",
    "        l2_elements=countElements(l2)\n",
    "        l2_elements_aux=l2_elements\n",
    "        while(l1!=None):\n",
    "            l2=headB\n",
    "            l2_elements_aux=l2_elements\n",
    "            while(l2!=None and l1_elements<=l2_elements_aux):\n",
    "                if(l1==l2):\n",
    "                    return l1\n",
    "                l2=l2.next\n",
    "                l2_elements_aux-=1\n",
    "            l1=l1.next\n",
    "            l1_elements-=1\n",
    "        return None\n",
    "        "
   ]
  },
  {
   "cell_type": "code",
   "execution_count": null,
   "metadata": {},
   "outputs": [],
   "source": [
    "# Definition for singly-linked list.\n",
    "# class ListNode:\n",
    "#     def __init__(self, x):\n",
    "#         self.val = x\n",
    "#         self.next = None\n",
    "\n",
    "#Solución válida pero no eficiente (No cumplía con los timeouts)\n",
    "\n",
    "class Solution:\n",
    "    def getIntersectionNode(self, headA: ListNode, headB: ListNode) -> ListNode:\n",
    "        l1=headA\n",
    "        l2=headB\n",
    "        while(l1!=None):\n",
    "            l2=headB\n",
    "            while(l2!=None):\n",
    "                if(l1==l2):\n",
    "                    return l1\n",
    "                l2=l2.next\n",
    "            l1=l1.next\n",
    "        return None\n",
    "        "
   ]
  }
 ],
 "metadata": {
  "kernelspec": {
   "display_name": "Python 3",
   "language": "python",
   "name": "python3"
  },
  "language_info": {
   "codemirror_mode": {
    "name": "ipython",
    "version": 3
   },
   "file_extension": ".py",
   "mimetype": "text/x-python",
   "name": "python",
   "nbconvert_exporter": "python",
   "pygments_lexer": "ipython3",
   "version": "3.8.5"
  }
 },
 "nbformat": 4,
 "nbformat_minor": 4
}

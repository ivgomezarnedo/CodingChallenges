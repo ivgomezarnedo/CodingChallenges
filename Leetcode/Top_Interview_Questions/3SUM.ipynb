{
 "cells": [
  {
   "cell_type": "code",
   "execution_count": null,
   "metadata": {},
   "outputs": [],
   "source": [
    "#https://leetcode.com/explore/interview/card/top-interview-questions-medium/103/array-and-strings/776/"
   ]
  },
  {
   "cell_type": "code",
   "execution_count": null,
   "metadata": {},
   "outputs": [],
   "source": [
    "nums=[-1,0,1,2,-1,-4]"
   ]
  },
  {
   "cell_type": "code",
   "execution_count": null,
   "metadata": {},
   "outputs": [],
   "source": [
    "nums=[3,-2,1,0]"
   ]
  },
  {
   "cell_type": "code",
   "execution_count": null,
   "metadata": {},
   "outputs": [],
   "source": [
    "nums=[0,0,0]"
   ]
  },
  {
   "cell_type": "code",
   "execution_count": null,
   "metadata": {},
   "outputs": [],
   "source": [
    "#Mi solución: https://www.youtube.com/watch?v=Zdf_AuEAWpY\n",
    "triplets=set()\n",
    "if(len(nums)>2):\n",
    "    for i in range(0, len(nums)-2):\n",
    "        for j in range(i+1, len(nums)-1):\n",
    "            for k in range(j+1, len(nums)):\n",
    "                if((nums[i]+nums[j]+nums[k])==0):\n",
    "                    lista=[nums[i],nums[j],nums[k]]\n",
    "                    lista.sort()\n",
    "                    triplets.add(tuple(lista))\n",
    "else:\n",
    "    print(\"La nada\")\n",
    "print(triplets)\n",
    "         "
   ]
  },
  {
   "cell_type": "code",
   "execution_count": null,
   "metadata": {},
   "outputs": [],
   "source": [
    "#Usando itertools\n",
    "import itertools\n",
    "stuff = [-1, 0, 1, 2, -1, -4]\n",
    "stuff.sort()\n",
    "ls = set()\n",
    "for subset in itertools.combinations(stuff, 3):\n",
    "    if sum(subset)==0:\n",
    "        # first I have sorted the list because of grouping\n",
    "        ls.add(tuple(subset))\n",
    "print(ls)"
   ]
  }
 ],
 "metadata": {
  "kernelspec": {
   "display_name": "Python 3",
   "language": "python",
   "name": "python3"
  },
  "language_info": {
   "codemirror_mode": {
    "name": "ipython",
    "version": 3
   },
   "file_extension": ".py",
   "mimetype": "text/x-python",
   "name": "python",
   "nbconvert_exporter": "python",
   "pygments_lexer": "ipython3",
   "version": "3.8.5"
  }
 },
 "nbformat": 4,
 "nbformat_minor": 4
}

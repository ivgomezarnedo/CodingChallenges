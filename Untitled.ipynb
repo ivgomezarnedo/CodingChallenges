{
 "cells": [
  {
   "cell_type": "code",
   "execution_count": null,
   "id": "e65bcf9c",
   "metadata": {},
   "outputs": [],
   "source": [
    "# suffle deck of cards ranging from the number 1 to 52"
   ]
  },
  {
   "cell_type": "code",
   "execution_count": 1,
   "id": "299bc095",
   "metadata": {},
   "outputs": [],
   "source": [
    "import random"
   ]
  },
  {
   "cell_type": "code",
   "execution_count": 35,
   "id": "fb757a13",
   "metadata": {
    "scrolled": true
   },
   "outputs": [
    {
     "name": "stdout",
     "output_type": "stream",
     "text": [
      "[0, 1, 2, 3, 4, 5, 6, 7, 8, 9, 10, 11, 12, 13, 14, 15, 16, 17, 18, 19, 20, 21, 22, 23, 24, 25, 26, 27, 28, 29, 30, 31, 32, 33, 34, 35, 36, 37, 38, 39, 40, 41, 42, 43, 44, 45, 46, 47, 48, 49, 50, 51, 52]\n"
     ]
    }
   ],
   "source": [
    "deck_of_cards = list(range(0,53))\n",
    "print(deck_of_cards)"
   ]
  },
  {
   "cell_type": "code",
   "execution_count": 3,
   "id": "f80a550b",
   "metadata": {},
   "outputs": [],
   "source": [
    "random.shuffle(deck_of_cards)"
   ]
  },
  {
   "cell_type": "code",
   "execution_count": 4,
   "id": "ce9c9d64",
   "metadata": {
    "scrolled": false
   },
   "outputs": [
    {
     "name": "stdout",
     "output_type": "stream",
     "text": [
      "[12, 14, 2, 22, 40, 13, 27, 11, 44, 17, 3, 7, 41, 37, 48, 16, 49, 32, 35, 51, 20, 38, 28, 39, 52, 36, 34, 15, 26, 42, 47, 43, 31, 6, 46, 50, 25, 21, 9, 24, 4, 18, 29, 33, 5, 19, 30, 23, 1, 8, 10, 45]\n"
     ]
    }
   ],
   "source": [
    "print(deck_of_cards)"
   ]
  },
  {
   "cell_type": "code",
   "execution_count": 10,
   "id": "251d5c23",
   "metadata": {},
   "outputs": [],
   "source": [
    "def get_random_number(max_value):\n",
    "    return random.randint(1, max_value)"
   ]
  },
  {
   "cell_type": "code",
   "execution_count": 11,
   "id": "302bfff0",
   "metadata": {},
   "outputs": [
    {
     "name": "stdout",
     "output_type": "stream",
     "text": [
      "38\n"
     ]
    }
   ],
   "source": [
    "print(get_random_number(52))"
   ]
  },
  {
   "cell_type": "code",
   "execution_count": null,
   "id": "0b93ed88",
   "metadata": {},
   "outputs": [],
   "source": [
    "for index, card in enumerate(deck_of_cards):\n",
    "    deck_of_cards[card] = deck_of_cards[get_random_number(len(deck_of_cards))]"
   ]
  },
  {
   "cell_type": "code",
   "execution_count": 36,
   "id": "e2382c9d",
   "metadata": {},
   "outputs": [],
   "source": [
    "for index, card in enumerate(deck_of_cards):\n",
    "    # Get index in list\n",
    "    deck_of_cards[index] = deck_of_cards[get_random_number(len(deck_of_cards)-1)]"
   ]
  },
  {
   "cell_type": "code",
   "execution_count": 37,
   "id": "bbe5daee",
   "metadata": {
    "scrolled": true
   },
   "outputs": [
    {
     "name": "stdout",
     "output_type": "stream",
     "text": [
      "[46, 27, 35, 44, 28, 9, 36, 24, 21, 15, 52, 49, 21, 52, 25, 16, 23, 25, 38, 36, 33, 23, 52, 40, 44, 36, 44, 44, 52, 27, 49, 49, 52, 38, 47, 33, 52, 40, 43, 47, 25, 52, 47, 49, 52, 36, 52, 33, 40, 25, 9, 40, 52]\n"
     ]
    }
   ],
   "source": [
    "print(deck_of_cards)"
   ]
  },
  {
   "cell_type": "code",
   "execution_count": 38,
   "id": "c0224857",
   "metadata": {
    "scrolled": true
   },
   "outputs": [
    {
     "name": "stdout",
     "output_type": "stream",
     "text": [
      "[0, 1, 2, 3, 4, 5, 6, 7, 8, 9, 10, 11, 12, 13, 14, 15, 16, 17, 18, 19, 20, 21, 22, 23, 24, 25, 26, 27, 28, 29, 30, 31, 32, 33, 34, 35, 36, 37, 38, 39, 40, 41, 42, 43, 44, 45, 46, 47, 48, 49, 50, 51, 52]\n"
     ]
    }
   ],
   "source": [
    "deck_of_cards_clone = list(range(0,53))\n",
    "print(deck_of_cards_clone)"
   ]
  },
  {
   "cell_type": "code",
   "execution_count": 39,
   "id": "4e3b1b7e",
   "metadata": {},
   "outputs": [
    {
     "data": {
      "text/plain": [
       "True"
      ]
     },
     "execution_count": 39,
     "metadata": {},
     "output_type": "execute_result"
    }
   ],
   "source": [
    "# TEST 1: We have the same number of cards\n",
    "len(deck_of_cards)==(len(deck_of_cards_clone))"
   ]
  },
  {
   "cell_type": "code",
   "execution_count": 40,
   "id": "ba791d45",
   "metadata": {},
   "outputs": [
    {
     "name": "stdout",
     "output_type": "stream",
     "text": [
      "Both are equal\n"
     ]
    }
   ],
   "source": [
    "# TEST 2: We have the same number of cards\n",
    "for card in deck_of_cards:\n",
    "    if card not in deck_of_cards_clone:\n",
    "        raise Exception(\"The card is not in the cloned one\")\n",
    "print(\"Both are equal\")\n"
   ]
  }
 ],
 "metadata": {
  "kernelspec": {
   "display_name": "Python 3",
   "language": "python",
   "name": "python3"
  },
  "language_info": {
   "codemirror_mode": {
    "name": "ipython",
    "version": 3
   },
   "file_extension": ".py",
   "mimetype": "text/x-python",
   "name": "python",
   "nbconvert_exporter": "python",
   "pygments_lexer": "ipython3",
   "version": "3.8.8"
  }
 },
 "nbformat": 4,
 "nbformat_minor": 5
}
